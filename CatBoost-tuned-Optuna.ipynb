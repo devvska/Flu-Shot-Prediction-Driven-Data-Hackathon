{
 "cells": [
  {
   "cell_type": "markdown",
   "metadata": {},
   "source": [
    "<h1>Flu Shot Learning: Predict H1N1 and Seasonal Flu Vaccines</h1>"
   ]
  },
  {
   "cell_type": "markdown",
   "metadata": {},
   "source": [
    "## Imports"
   ]
  },
  {
   "cell_type": "code",
   "execution_count": 1,
   "metadata": {},
   "outputs": [],
   "source": [
    "import pandas as pd\n",
    "import numpy as np\n",
    "import matplotlib.pyplot as plt\n",
    "import seaborn as sns"
   ]
  },
  {
   "cell_type": "markdown",
   "metadata": {},
   "source": [
    "## Load data"
   ]
  },
  {
   "cell_type": "code",
   "execution_count": 2,
   "metadata": {},
   "outputs": [],
   "source": [
    "train = pd.read_csv('./data/training_set_features.csv', index_col='respondent_id')"
   ]
  },
  {
   "cell_type": "code",
   "execution_count": 3,
   "metadata": {},
   "outputs": [],
   "source": [
    "test = pd.read_csv('./data/test_set_features.csv', index_col='respondent_id')"
   ]
  },
  {
   "cell_type": "code",
   "execution_count": 4,
   "metadata": {},
   "outputs": [],
   "source": [
    "labels = pd.read_csv('./data/training_set_labels.csv', index_col='respondent_id')"
   ]
  },
  {
   "cell_type": "markdown",
   "metadata": {},
   "source": [
    "### Imputation strategy"
   ]
  },
  {
   "cell_type": "code",
   "execution_count": 5,
   "metadata": {},
   "outputs": [],
   "source": [
    "num_cols = train.select_dtypes('number').columns"
   ]
  },
  {
   "cell_type": "code",
   "execution_count": 6,
   "metadata": {},
   "outputs": [],
   "source": [
    "cat_cols = ['race', 'sex', \n",
    "       'marital_status', 'rent_or_own',  'hhs_geo_region',\n",
    "       'census_msa', 'employment_industry', 'employment_occupation']"
   ]
  },
  {
   "cell_type": "code",
   "execution_count": 7,
   "metadata": {},
   "outputs": [],
   "source": [
    "ord_cols = ['age_group', 'education',  'income_poverty',\n",
    "        'employment_status']"
   ]
  },
  {
   "cell_type": "code",
   "execution_count": 8,
   "metadata": {},
   "outputs": [
    {
     "name": "stderr",
     "output_type": "stream",
     "text": [
      "c:\\Users\\40107588\\AppData\\Local\\Programs\\Python\\Python311\\Lib\\site-packages\\tqdm\\auto.py:21: TqdmWarning: IProgress not found. Please update jupyter and ipywidgets. See https://ipywidgets.readthedocs.io/en/stable/user_install.html\n",
      "  from .autonotebook import tqdm as notebook_tqdm\n"
     ]
    }
   ],
   "source": [
    "from sklearn.pipeline import Pipeline\n",
    "from sklearn.preprocessing import MinMaxScaler, StandardScaler, OneHotEncoder\n",
    "from sklearn.impute import SimpleImputer\n",
    "from sklearn.compose import ColumnTransformer\n",
    "from category_encoders import OrdinalEncoder as oe\n",
    "from catboost import CatBoostClassifier\n",
    "from catboost import Pool, cv\n",
    "from sklearn.metrics import roc_curve, roc_auc_score\n",
    "import optuna"
   ]
  },
  {
   "cell_type": "markdown",
   "metadata": {},
   "source": [
    "#### Impute train"
   ]
  },
  {
   "cell_type": "code",
   "execution_count": 9,
   "metadata": {},
   "outputs": [],
   "source": [
    "# Categorical columns None\n",
    "for col in (cat_cols+ord_cols):\n",
    "    train[col] = train[col].fillna(value='None')"
   ]
  },
  {
   "cell_type": "code",
   "execution_count": 10,
   "metadata": {},
   "outputs": [],
   "source": [
    "for col in num_cols:\n",
    "    train[col] = train[col].fillna(value=-1)"
   ]
  },
  {
   "cell_type": "markdown",
   "metadata": {},
   "source": [
    "#### Impute test"
   ]
  },
  {
   "cell_type": "code",
   "execution_count": 11,
   "metadata": {},
   "outputs": [],
   "source": [
    "# Categorical columns None\n",
    "for col in (cat_cols+ord_cols):\n",
    "    test[col] = test[col].fillna(value='None')"
   ]
  },
  {
   "cell_type": "code",
   "execution_count": 12,
   "metadata": {},
   "outputs": [],
   "source": [
    "for col in num_cols:\n",
    "    test[col] = test[col].fillna(value=-1)"
   ]
  },
  {
   "cell_type": "markdown",
   "metadata": {},
   "source": [
    "### Train test split"
   ]
  },
  {
   "cell_type": "code",
   "execution_count": 13,
   "metadata": {},
   "outputs": [],
   "source": [
    "from sklearn.model_selection import train_test_split"
   ]
  },
  {
   "cell_type": "code",
   "execution_count": 14,
   "metadata": {},
   "outputs": [],
   "source": [
    "X_train, X_test, y_train, y_test = train_test_split( train, labels, test_size=0.3, random_state=68)"
   ]
  },
  {
   "cell_type": "code",
   "execution_count": 15,
   "metadata": {},
   "outputs": [],
   "source": [
    "# Get the index number of categorical features\n",
    "categorical_features_indices = np.where(X_train.dtypes != float)[0]"
   ]
  },
  {
   "cell_type": "markdown",
   "metadata": {},
   "source": [
    "### Optimize with Optuna and cross validation\n",
    "\n",
    "Using just the selected features idetified in the previous notebook, led to poor perfomances; it seems to be better to use all the columns. CatBoost can easily deal with useless features not using them. "
   ]
  },
  {
   "cell_type": "code",
   "execution_count": 16,
   "metadata": {},
   "outputs": [],
   "source": [
    "train_dataset = Pool(data=X_train,\n",
    "                     label=y_train.h1n1_vaccine,\n",
    "                     cat_features = categorical_features_indices)"
   ]
  },
  {
   "cell_type": "code",
   "execution_count": 17,
   "metadata": {},
   "outputs": [],
   "source": [
    "def objective(trial):\n",
    "    param = {\n",
    "        'iterations':trial.suggest_categorical('iterations', [100,200,300,500,1000,1200,1500]), #number of boosting iterations (trees) to train\n",
    "        'learning_rate':trial.suggest_float(\"learning_rate\", 0.001, 0.3), #step size at each iteration while moving towards a minimum of the loss function\n",
    "        'random_strength':trial.suggest_int(\"random_strength\", 1,10), # strength of the randomness in tree building\n",
    "        'bagging_temperature':trial.suggest_int(\"bagging_temperature\", 0,10), #degree of randomness in the selection of training data\n",
    "        'max_bin':trial.suggest_categorical('max_bin', [4,5,6,8,10,20,30]), #maximum number of bins used for feature discretization\n",
    "        'grow_policy':trial.suggest_categorical('grow_policy', ['SymmetricTree', 'Depthwise', 'Lossguide']), #policy used to grow the trees\n",
    "        'min_data_in_leaf':trial.suggest_int(\"min_data_in_leaf\", 1,10), #Minimum number of samples in a leaf node\n",
    "        'od_type' : \"Iter\", #Type of overfitting detector\n",
    "        'od_wait' : 100, #Number of iterations to wait before stopping the training process if no improvement\n",
    "        \"depth\": trial.suggest_int(\"max_depth\", 2,10), #Maximum depth of the trees\n",
    "        \"l2_leaf_reg\": trial.suggest_loguniform(\"l2_leaf_reg\", 1e-8, 100), #L2 regularization coefficient for leaf weights\n",
    "        'one_hot_max_size':trial.suggest_categorical('one_hot_max_size', [5,10,12,100,500,1024]), #Maximum number of categories for one-hot encoding \n",
    "        'custom_metric' : ['AUC'],\n",
    "        \"loss_function\": \"Logloss\",\n",
    "        'auto_class_weights':trial.suggest_categorical('auto_class_weights', ['Balanced', 'SqrtBalanced']), #Strategy for automatically adjusting class weights\n",
    "        }\n",
    "\n",
    "    scores = cv(train_dataset,\n",
    "            param,\n",
    "            fold_count=5, \n",
    "            early_stopping_rounds=10,         \n",
    "            plot=False, verbose=False)\n",
    "\n",
    "    return scores['test-AUC-mean'].max()"
   ]
  },
  {
   "cell_type": "markdown",
   "metadata": {},
   "source": [
    "Even though CatBoost is quite fast and I used early stopping, it's going to run 100 fits so it takes a lot of time. You can avoid re-running the optimisation and copy the parameters from the print report replacing `**trial.params` when calling CatBoost"
   ]
  },
  {
   "cell_type": "code",
   "execution_count": 18,
   "metadata": {},
   "outputs": [
    {
     "name": "stderr",
     "output_type": "stream",
     "text": [
      "[I 2024-07-26 11:15:57,185] A new study created in memory with name: no-name-5ab0c57d-3beb-4395-bb2c-b844e41e6711\n",
      "C:\\Users\\40107588\\AppData\\Local\\Temp\\ipykernel_3444\\1656202261.py:13: FutureWarning: suggest_loguniform has been deprecated in v3.0.0. This feature will be removed in v6.0.0. See https://github.com/optuna/optuna/releases/tag/v3.0.0. Use suggest_float(..., log=True) instead.\n",
      "  \"l2_leaf_reg\": trial.suggest_loguniform(\"l2_leaf_reg\", 1e-8, 100), #L2 regularization coefficient for leaf weights\n"
     ]
    },
    {
     "name": "stdout",
     "output_type": "stream",
     "text": [
      "Training on fold [0/5]\n",
      "\n",
      "bestTest = 0.4269336823\n",
      "bestIteration = 569\n",
      "\n",
      "Training on fold [1/5]\n",
      "\n",
      "bestTest = 0.4240454756\n",
      "bestIteration = 497\n",
      "\n",
      "Training on fold [2/5]\n",
      "\n",
      "bestTest = 0.4324963035\n",
      "bestIteration = 536\n",
      "\n",
      "Training on fold [3/5]\n",
      "\n",
      "bestTest = 0.4286695316\n",
      "bestIteration = 546\n",
      "\n",
      "Training on fold [4/5]\n"
     ]
    },
    {
     "name": "stderr",
     "output_type": "stream",
     "text": [
      "[I 2024-07-26 11:16:59,200] Trial 0 finished with value: 0.863647892026189 and parameters: {'iterations': 1500, 'learning_rate': 0.029356482739949695, 'random_strength': 8, 'bagging_temperature': 10, 'max_bin': 6, 'grow_policy': 'SymmetricTree', 'min_data_in_leaf': 1, 'max_depth': 4, 'l2_leaf_reg': 0.001991194871120998, 'one_hot_max_size': 100, 'auto_class_weights': 'SqrtBalanced'}. Best is trial 0 with value: 0.863647892026189.\n"
     ]
    },
    {
     "name": "stdout",
     "output_type": "stream",
     "text": [
      "\n",
      "bestTest = 0.4289279999\n",
      "bestIteration = 556\n",
      "\n",
      "Training on fold [0/5]\n"
     ]
    },
    {
     "name": "stderr",
     "output_type": "stream",
     "text": [
      "C:\\Users\\40107588\\AppData\\Local\\Temp\\ipykernel_3444\\1656202261.py:13: FutureWarning: suggest_loguniform has been deprecated in v3.0.0. This feature will be removed in v6.0.0. See https://github.com/optuna/optuna/releases/tag/v3.0.0. Use suggest_float(..., log=True) instead.\n",
      "  \"l2_leaf_reg\": trial.suggest_loguniform(\"l2_leaf_reg\", 1e-8, 100), #L2 regularization coefficient for leaf weights\n"
     ]
    },
    {
     "name": "stdout",
     "output_type": "stream",
     "text": [
      "\n",
      "bestTest = 0.4282883211\n",
      "bestIteration = 149\n",
      "\n",
      "Training on fold [1/5]\n",
      "\n",
      "bestTest = 0.4184852753\n",
      "bestIteration = 141\n",
      "\n",
      "Training on fold [2/5]\n",
      "\n",
      "bestTest = 0.4316686352\n",
      "bestIteration = 162\n",
      "\n",
      "Training on fold [3/5]\n",
      "\n",
      "bestTest = 0.4278046405\n",
      "bestIteration = 121\n",
      "\n",
      "Training on fold [4/5]\n"
     ]
    },
    {
     "name": "stderr",
     "output_type": "stream",
     "text": [
      "[I 2024-07-26 11:17:10,558] Trial 1 finished with value: 0.8641005119276188 and parameters: {'iterations': 200, 'learning_rate': 0.1464067066361795, 'random_strength': 10, 'bagging_temperature': 3, 'max_bin': 10, 'grow_policy': 'Depthwise', 'min_data_in_leaf': 1, 'max_depth': 3, 'l2_leaf_reg': 0.028402775147703313, 'one_hot_max_size': 500, 'auto_class_weights': 'SqrtBalanced'}. Best is trial 1 with value: 0.8641005119276188.\n"
     ]
    },
    {
     "name": "stdout",
     "output_type": "stream",
     "text": [
      "\n",
      "bestTest = 0.4293192688\n",
      "bestIteration = 150\n",
      "\n",
      "Training on fold [0/5]\n"
     ]
    },
    {
     "name": "stderr",
     "output_type": "stream",
     "text": [
      "C:\\Users\\40107588\\AppData\\Local\\Temp\\ipykernel_3444\\1656202261.py:13: FutureWarning: suggest_loguniform has been deprecated in v3.0.0. This feature will be removed in v6.0.0. See https://github.com/optuna/optuna/releases/tag/v3.0.0. Use suggest_float(..., log=True) instead.\n",
      "  \"l2_leaf_reg\": trial.suggest_loguniform(\"l2_leaf_reg\", 1e-8, 100), #L2 regularization coefficient for leaf weights\n"
     ]
    },
    {
     "name": "stdout",
     "output_type": "stream",
     "text": [
      "\n",
      "bestTest = 0.440402881\n",
      "bestIteration = 26\n",
      "\n",
      "Training on fold [1/5]\n",
      "\n",
      "bestTest = 0.4278125101\n",
      "bestIteration = 49\n",
      "\n",
      "Training on fold [2/5]\n",
      "\n",
      "bestTest = 0.4381016884\n",
      "bestIteration = 55\n",
      "\n",
      "Training on fold [3/5]\n",
      "\n",
      "bestTest = 0.4288447231\n",
      "bestIteration = 48\n",
      "\n",
      "Training on fold [4/5]\n"
     ]
    },
    {
     "name": "stderr",
     "output_type": "stream",
     "text": [
      "[I 2024-07-26 11:17:35,333] Trial 2 finished with value: 0.8583460042272002 and parameters: {'iterations': 200, 'learning_rate': 0.27287829596201946, 'random_strength': 8, 'bagging_temperature': 8, 'max_bin': 10, 'grow_policy': 'SymmetricTree', 'min_data_in_leaf': 1, 'max_depth': 5, 'l2_leaf_reg': 0.027330135035255495, 'one_hot_max_size': 10, 'auto_class_weights': 'SqrtBalanced'}. Best is trial 1 with value: 0.8641005119276188.\n"
     ]
    },
    {
     "name": "stdout",
     "output_type": "stream",
     "text": [
      "\n",
      "bestTest = 0.4317851117\n",
      "bestIteration = 46\n",
      "\n",
      "Training on fold [0/5]\n"
     ]
    },
    {
     "name": "stderr",
     "output_type": "stream",
     "text": [
      "C:\\Users\\40107588\\AppData\\Local\\Temp\\ipykernel_3444\\1656202261.py:13: FutureWarning: suggest_loguniform has been deprecated in v3.0.0. This feature will be removed in v6.0.0. See https://github.com/optuna/optuna/releases/tag/v3.0.0. Use suggest_float(..., log=True) instead.\n",
      "  \"l2_leaf_reg\": trial.suggest_loguniform(\"l2_leaf_reg\", 1e-8, 100), #L2 regularization coefficient for leaf weights\n"
     ]
    },
    {
     "name": "stdout",
     "output_type": "stream",
     "text": [
      "\n",
      "bestTest = 0.4280817397\n",
      "bestIteration = 482\n",
      "\n",
      "Training on fold [1/5]\n",
      "\n",
      "bestTest = 0.4236283199\n",
      "bestIteration = 454\n",
      "\n",
      "Training on fold [2/5]\n",
      "\n",
      "bestTest = 0.4307632902\n",
      "bestIteration = 534\n",
      "\n",
      "Training on fold [3/5]\n",
      "\n",
      "bestTest = 0.431009149\n",
      "bestIteration = 294\n",
      "\n",
      "Training on fold [4/5]\n"
     ]
    },
    {
     "name": "stderr",
     "output_type": "stream",
     "text": [
      "[I 2024-07-26 11:19:18,461] Trial 3 finished with value: 0.8629184180369525 and parameters: {'iterations': 1200, 'learning_rate': 0.0603209284932487, 'random_strength': 3, 'bagging_temperature': 7, 'max_bin': 4, 'grow_policy': 'SymmetricTree', 'min_data_in_leaf': 2, 'max_depth': 2, 'l2_leaf_reg': 1.300471404766049e-07, 'one_hot_max_size': 10, 'auto_class_weights': 'SqrtBalanced'}. Best is trial 1 with value: 0.8641005119276188.\n"
     ]
    },
    {
     "name": "stdout",
     "output_type": "stream",
     "text": [
      "\n",
      "bestTest = 0.4326428811\n",
      "bestIteration = 465\n",
      "\n",
      "Training on fold [0/5]\n"
     ]
    },
    {
     "name": "stderr",
     "output_type": "stream",
     "text": [
      "C:\\Users\\40107588\\AppData\\Local\\Temp\\ipykernel_3444\\1656202261.py:13: FutureWarning: suggest_loguniform has been deprecated in v3.0.0. This feature will be removed in v6.0.0. See https://github.com/optuna/optuna/releases/tag/v3.0.0. Use suggest_float(..., log=True) instead.\n",
      "  \"l2_leaf_reg\": trial.suggest_loguniform(\"l2_leaf_reg\", 1e-8, 100), #L2 regularization coefficient for leaf weights\n"
     ]
    },
    {
     "name": "stdout",
     "output_type": "stream",
     "text": [
      "\n",
      "bestTest = 0.4316518579\n",
      "bestIteration = 93\n",
      "\n",
      "Training on fold [1/5]\n",
      "\n",
      "bestTest = 0.4264396537\n",
      "bestIteration = 56\n",
      "\n",
      "Training on fold [2/5]\n",
      "\n",
      "bestTest = 0.4358573965\n",
      "bestIteration = 69\n",
      "\n",
      "Training on fold [3/5]\n",
      "\n",
      "bestTest = 0.4316967894\n",
      "bestIteration = 59\n",
      "\n",
      "Training on fold [4/5]\n"
     ]
    },
    {
     "name": "stderr",
     "output_type": "stream",
     "text": [
      "[I 2024-07-26 11:19:26,897] Trial 4 finished with value: 0.8595852167876092 and parameters: {'iterations': 300, 'learning_rate': 0.22423670437233847, 'random_strength': 6, 'bagging_temperature': 2, 'max_bin': 30, 'grow_policy': 'SymmetricTree', 'min_data_in_leaf': 4, 'max_depth': 4, 'l2_leaf_reg': 0.00010293033487726667, 'one_hot_max_size': 500, 'auto_class_weights': 'SqrtBalanced'}. Best is trial 1 with value: 0.8641005119276188.\n"
     ]
    },
    {
     "name": "stdout",
     "output_type": "stream",
     "text": [
      "\n",
      "bestTest = 0.4358042991\n",
      "bestIteration = 76\n",
      "\n",
      "Training on fold [0/5]\n"
     ]
    },
    {
     "name": "stderr",
     "output_type": "stream",
     "text": [
      "C:\\Users\\40107588\\AppData\\Local\\Temp\\ipykernel_3444\\1656202261.py:13: FutureWarning: suggest_loguniform has been deprecated in v3.0.0. This feature will be removed in v6.0.0. See https://github.com/optuna/optuna/releases/tag/v3.0.0. Use suggest_float(..., log=True) instead.\n",
      "  \"l2_leaf_reg\": trial.suggest_loguniform(\"l2_leaf_reg\", 1e-8, 100), #L2 regularization coefficient for leaf weights\n"
     ]
    },
    {
     "name": "stdout",
     "output_type": "stream",
     "text": [
      "\n",
      "bestTest = 0.4852991359\n",
      "bestIteration = 99\n",
      "\n",
      "Training on fold [1/5]\n",
      "\n",
      "bestTest = 0.4839102243\n",
      "bestIteration = 99\n",
      "\n",
      "Training on fold [2/5]\n",
      "\n",
      "bestTest = 0.4902656278\n",
      "bestIteration = 99\n",
      "\n",
      "Training on fold [3/5]\n",
      "\n",
      "bestTest = 0.485158478\n",
      "bestIteration = 99\n",
      "\n",
      "Training on fold [4/5]\n"
     ]
    },
    {
     "name": "stderr",
     "output_type": "stream",
     "text": [
      "[I 2024-07-26 11:19:33,971] Trial 5 finished with value: 0.8521741475778146 and parameters: {'iterations': 100, 'learning_rate': 0.06628011038512191, 'random_strength': 4, 'bagging_temperature': 4, 'max_bin': 20, 'grow_policy': 'Lossguide', 'min_data_in_leaf': 3, 'max_depth': 2, 'l2_leaf_reg': 13.751833235431702, 'one_hot_max_size': 100, 'auto_class_weights': 'Balanced'}. Best is trial 1 with value: 0.8641005119276188.\n"
     ]
    },
    {
     "name": "stdout",
     "output_type": "stream",
     "text": [
      "\n",
      "bestTest = 0.4932316559\n",
      "bestIteration = 99\n",
      "\n",
      "Training on fold [0/5]\n"
     ]
    },
    {
     "name": "stderr",
     "output_type": "stream",
     "text": [
      "C:\\Users\\40107588\\AppData\\Local\\Temp\\ipykernel_3444\\1656202261.py:13: FutureWarning: suggest_loguniform has been deprecated in v3.0.0. This feature will be removed in v6.0.0. See https://github.com/optuna/optuna/releases/tag/v3.0.0. Use suggest_float(..., log=True) instead.\n",
      "  \"l2_leaf_reg\": trial.suggest_loguniform(\"l2_leaf_reg\", 1e-8, 100), #L2 regularization coefficient for leaf weights\n"
     ]
    },
    {
     "name": "stdout",
     "output_type": "stream",
     "text": [
      "\n",
      "bestTest = 0.4307915324\n",
      "bestIteration = 98\n",
      "\n",
      "Training on fold [1/5]\n",
      "\n",
      "bestTest = 0.4226802156\n",
      "bestIteration = 70\n",
      "\n",
      "Training on fold [2/5]\n",
      "\n",
      "bestTest = 0.4334947317\n",
      "bestIteration = 124\n",
      "\n",
      "Training on fold [3/5]\n",
      "\n",
      "bestTest = 0.436377036\n",
      "bestIteration = 80\n",
      "\n",
      "Training on fold [4/5]\n"
     ]
    },
    {
     "name": "stderr",
     "output_type": "stream",
     "text": [
      "[I 2024-07-26 11:21:46,428] Trial 6 finished with value: 0.8616877078561375 and parameters: {'iterations': 1200, 'learning_rate': 0.09658215406978513, 'random_strength': 8, 'bagging_temperature': 2, 'max_bin': 30, 'grow_policy': 'Depthwise', 'min_data_in_leaf': 6, 'max_depth': 10, 'l2_leaf_reg': 2.6558249848041764, 'one_hot_max_size': 5, 'auto_class_weights': 'SqrtBalanced'}. Best is trial 1 with value: 0.8641005119276188.\n"
     ]
    },
    {
     "name": "stdout",
     "output_type": "stream",
     "text": [
      "\n",
      "bestTest = 0.4293134391\n",
      "bestIteration = 100\n",
      "\n",
      "Training on fold [0/5]\n"
     ]
    },
    {
     "name": "stderr",
     "output_type": "stream",
     "text": [
      "C:\\Users\\40107588\\AppData\\Local\\Temp\\ipykernel_3444\\1656202261.py:13: FutureWarning: suggest_loguniform has been deprecated in v3.0.0. This feature will be removed in v6.0.0. See https://github.com/optuna/optuna/releases/tag/v3.0.0. Use suggest_float(..., log=True) instead.\n",
      "  \"l2_leaf_reg\": trial.suggest_loguniform(\"l2_leaf_reg\", 1e-8, 100), #L2 regularization coefficient for leaf weights\n"
     ]
    },
    {
     "name": "stdout",
     "output_type": "stream",
     "text": [
      "\n",
      "bestTest = 0.464009135\n",
      "bestIteration = 84\n",
      "\n",
      "Training on fold [1/5]\n",
      "\n",
      "bestTest = 0.4517555363\n",
      "bestIteration = 122\n",
      "\n",
      "Training on fold [2/5]\n",
      "\n",
      "bestTest = 0.462515409\n",
      "bestIteration = 113\n",
      "\n",
      "Training on fold [3/5]\n",
      "\n",
      "bestTest = 0.4609296958\n",
      "bestIteration = 80\n",
      "\n",
      "Training on fold [4/5]\n"
     ]
    },
    {
     "name": "stderr",
     "output_type": "stream",
     "text": [
      "[I 2024-07-26 11:22:16,319] Trial 7 finished with value: 0.862524125827921 and parameters: {'iterations': 500, 'learning_rate': 0.2714096381817127, 'random_strength': 4, 'bagging_temperature': 6, 'max_bin': 8, 'grow_policy': 'Depthwise', 'min_data_in_leaf': 1, 'max_depth': 2, 'l2_leaf_reg': 4.9369231964322795, 'one_hot_max_size': 1024, 'auto_class_weights': 'Balanced'}. Best is trial 1 with value: 0.8641005119276188.\n"
     ]
    },
    {
     "name": "stdout",
     "output_type": "stream",
     "text": [
      "\n",
      "bestTest = 0.4682843267\n",
      "bestIteration = 83\n",
      "\n",
      "Training on fold [0/5]\n"
     ]
    },
    {
     "name": "stderr",
     "output_type": "stream",
     "text": [
      "C:\\Users\\40107588\\AppData\\Local\\Temp\\ipykernel_3444\\1656202261.py:13: FutureWarning: suggest_loguniform has been deprecated in v3.0.0. This feature will be removed in v6.0.0. See https://github.com/optuna/optuna/releases/tag/v3.0.0. Use suggest_float(..., log=True) instead.\n",
      "  \"l2_leaf_reg\": trial.suggest_loguniform(\"l2_leaf_reg\", 1e-8, 100), #L2 regularization coefficient for leaf weights\n"
     ]
    },
    {
     "name": "stdout",
     "output_type": "stream",
     "text": [
      "\n",
      "bestTest = 0.4313097636\n",
      "bestIteration = 65\n",
      "\n",
      "Training on fold [1/5]\n",
      "\n",
      "bestTest = 0.4181319598\n",
      "bestIteration = 109\n",
      "\n",
      "Training on fold [2/5]\n",
      "\n",
      "bestTest = 0.4369396156\n",
      "bestIteration = 93\n",
      "\n",
      "Training on fold [3/5]\n",
      "\n",
      "bestTest = 0.4295737898\n",
      "bestIteration = 73\n",
      "\n",
      "Training on fold [4/5]\n"
     ]
    },
    {
     "name": "stderr",
     "output_type": "stream",
     "text": [
      "[I 2024-07-26 11:23:10,093] Trial 8 finished with value: 0.8621129363871262 and parameters: {'iterations': 1500, 'learning_rate': 0.2053434310118264, 'random_strength': 8, 'bagging_temperature': 0, 'max_bin': 20, 'grow_policy': 'Depthwise', 'min_data_in_leaf': 10, 'max_depth': 3, 'l2_leaf_reg': 9.501510078266123e-06, 'one_hot_max_size': 500, 'auto_class_weights': 'SqrtBalanced'}. Best is trial 1 with value: 0.8641005119276188.\n"
     ]
    },
    {
     "name": "stdout",
     "output_type": "stream",
     "text": [
      "\n",
      "bestTest = 0.4302185711\n",
      "bestIteration = 119\n",
      "\n",
      "Training on fold [0/5]\n"
     ]
    },
    {
     "name": "stderr",
     "output_type": "stream",
     "text": [
      "C:\\Users\\40107588\\AppData\\Local\\Temp\\ipykernel_3444\\1656202261.py:13: FutureWarning: suggest_loguniform has been deprecated in v3.0.0. This feature will be removed in v6.0.0. See https://github.com/optuna/optuna/releases/tag/v3.0.0. Use suggest_float(..., log=True) instead.\n",
      "  \"l2_leaf_reg\": trial.suggest_loguniform(\"l2_leaf_reg\", 1e-8, 100), #L2 regularization coefficient for leaf weights\n"
     ]
    },
    {
     "name": "stdout",
     "output_type": "stream",
     "text": [
      "\n",
      "bestTest = 0.4441066792\n",
      "bestIteration = 20\n",
      "\n",
      "Training on fold [1/5]\n",
      "\n",
      "bestTest = 0.4335742604\n",
      "bestIteration = 35\n",
      "\n",
      "Training on fold [2/5]\n",
      "\n",
      "bestTest = 0.445031423\n",
      "bestIteration = 45\n",
      "\n",
      "Training on fold [3/5]\n",
      "\n",
      "bestTest = 0.4441460909\n",
      "bestIteration = 33\n",
      "\n",
      "Training on fold [4/5]\n"
     ]
    },
    {
     "name": "stderr",
     "output_type": "stream",
     "text": [
      "[I 2024-07-26 11:26:18,014] Trial 9 finished with value: 0.8536284008955322 and parameters: {'iterations': 100, 'learning_rate': 0.25900665720714294, 'random_strength': 3, 'bagging_temperature': 0, 'max_bin': 6, 'grow_policy': 'Lossguide', 'min_data_in_leaf': 8, 'max_depth': 7, 'l2_leaf_reg': 1.1694576328936887e-07, 'one_hot_max_size': 12, 'auto_class_weights': 'SqrtBalanced'}. Best is trial 1 with value: 0.8641005119276188.\n"
     ]
    },
    {
     "name": "stdout",
     "output_type": "stream",
     "text": [
      "\n",
      "bestTest = 0.4443909157\n",
      "bestIteration = 39\n",
      "\n"
     ]
    },
    {
     "name": "stderr",
     "output_type": "stream",
     "text": [
      "C:\\Users\\40107588\\AppData\\Local\\Temp\\ipykernel_3444\\1656202261.py:13: FutureWarning: suggest_loguniform has been deprecated in v3.0.0. This feature will be removed in v6.0.0. See https://github.com/optuna/optuna/releases/tag/v3.0.0. Use suggest_float(..., log=True) instead.\n",
      "  \"l2_leaf_reg\": trial.suggest_loguniform(\"l2_leaf_reg\", 1e-8, 100), #L2 regularization coefficient for leaf weights\n"
     ]
    },
    {
     "name": "stdout",
     "output_type": "stream",
     "text": [
      "Training on fold [0/5]\n",
      "\n",
      "bestTest = 0.4862090765\n",
      "bestIteration = 50\n",
      "\n",
      "Training on fold [1/5]\n",
      "\n",
      "bestTest = 0.4726565482\n",
      "bestIteration = 58\n",
      "\n",
      "Training on fold [2/5]\n",
      "\n",
      "bestTest = 0.4895097855\n",
      "bestIteration = 34\n",
      "\n",
      "Training on fold [3/5]\n",
      "\n",
      "bestTest = 0.4745293001\n",
      "bestIteration = 62\n",
      "\n",
      "Training on fold [4/5]\n"
     ]
    },
    {
     "name": "stderr",
     "output_type": "stream",
     "text": [
      "[I 2024-07-26 11:26:34,412] Trial 10 finished with value: 0.8519961198262097 and parameters: {'iterations': 200, 'learning_rate': 0.15034104921866256, 'random_strength': 10, 'bagging_temperature': 4, 'max_bin': 10, 'grow_policy': 'Depthwise', 'min_data_in_leaf': 6, 'max_depth': 7, 'l2_leaf_reg': 0.06866979073979582, 'one_hot_max_size': 500, 'auto_class_weights': 'Balanced'}. Best is trial 1 with value: 0.8641005119276188.\n"
     ]
    },
    {
     "name": "stdout",
     "output_type": "stream",
     "text": [
      "\n",
      "bestTest = 0.4746860704\n",
      "bestIteration = 70\n",
      "\n",
      "Training on fold [0/5]\n"
     ]
    },
    {
     "name": "stderr",
     "output_type": "stream",
     "text": [
      "C:\\Users\\40107588\\AppData\\Local\\Temp\\ipykernel_3444\\1656202261.py:13: FutureWarning: suggest_loguniform has been deprecated in v3.0.0. This feature will be removed in v6.0.0. See https://github.com/optuna/optuna/releases/tag/v3.0.0. Use suggest_float(..., log=True) instead.\n",
      "  \"l2_leaf_reg\": trial.suggest_loguniform(\"l2_leaf_reg\", 1e-8, 100), #L2 regularization coefficient for leaf weights\n"
     ]
    },
    {
     "name": "stdout",
     "output_type": "stream",
     "text": [
      "\n",
      "bestTest = 0.4370721231\n",
      "bestIteration = 1127\n",
      "\n",
      "Training on fold [1/5]\n",
      "\n",
      "bestTest = 0.4243519149\n",
      "bestIteration = 1499\n",
      "\n",
      "Training on fold [2/5]\n",
      "\n",
      "bestTest = 0.4334998546\n",
      "bestIteration = 1499\n",
      "\n",
      "Training on fold [3/5]\n",
      "\n",
      "bestTest = 0.4291885789\n",
      "bestIteration = 1499\n",
      "\n",
      "Training on fold [4/5]\n"
     ]
    },
    {
     "name": "stderr",
     "output_type": "stream",
     "text": [
      "[I 2024-07-26 11:31:03,489] Trial 11 finished with value: 0.8626369796529552 and parameters: {'iterations': 1500, 'learning_rate': 0.008172454094813684, 'random_strength': 10, 'bagging_temperature': 9, 'max_bin': 6, 'grow_policy': 'SymmetricTree', 'min_data_in_leaf': 4, 'max_depth': 5, 'l2_leaf_reg': 0.004159650728547687, 'one_hot_max_size': 100, 'auto_class_weights': 'SqrtBalanced'}. Best is trial 1 with value: 0.8641005119276188.\n"
     ]
    },
    {
     "name": "stdout",
     "output_type": "stream",
     "text": [
      "\n",
      "bestTest = 0.4325173645\n",
      "bestIteration = 1499\n",
      "\n"
     ]
    },
    {
     "name": "stderr",
     "output_type": "stream",
     "text": [
      "C:\\Users\\40107588\\AppData\\Local\\Temp\\ipykernel_3444\\1656202261.py:13: FutureWarning: suggest_loguniform has been deprecated in v3.0.0. This feature will be removed in v6.0.0. See https://github.com/optuna/optuna/releases/tag/v3.0.0. Use suggest_float(..., log=True) instead.\n",
      "  \"l2_leaf_reg\": trial.suggest_loguniform(\"l2_leaf_reg\", 1e-8, 100), #L2 regularization coefficient for leaf weights\n"
     ]
    },
    {
     "name": "stdout",
     "output_type": "stream",
     "text": [
      "Training on fold [0/5]\n",
      "\n",
      "bestTest = 0.4309647825\n",
      "bestIteration = 88\n",
      "\n",
      "Training on fold [1/5]\n",
      "\n",
      "bestTest = 0.4262937528\n",
      "bestIteration = 111\n",
      "\n",
      "Training on fold [2/5]\n",
      "\n",
      "bestTest = 0.4398138717\n",
      "bestIteration = 84\n",
      "\n",
      "Training on fold [3/5]\n",
      "\n",
      "bestTest = 0.4317121208\n",
      "bestIteration = 85\n",
      "\n",
      "Training on fold [4/5]\n"
     ]
    },
    {
     "name": "stderr",
     "output_type": "stream",
     "text": [
      "[I 2024-07-26 11:31:49,700] Trial 12 finished with value: 0.8602123184914771 and parameters: {'iterations': 1000, 'learning_rate': 0.15199867028113004, 'random_strength': 7, 'bagging_temperature': 10, 'max_bin': 5, 'grow_policy': 'Depthwise', 'min_data_in_leaf': 1, 'max_depth': 4, 'l2_leaf_reg': 0.000130285490979316, 'one_hot_max_size': 100, 'auto_class_weights': 'SqrtBalanced'}. Best is trial 1 with value: 0.8641005119276188.\n"
     ]
    },
    {
     "name": "stdout",
     "output_type": "stream",
     "text": [
      "\n",
      "bestTest = 0.4300054189\n",
      "bestIteration = 106\n",
      "\n"
     ]
    },
    {
     "name": "stderr",
     "output_type": "stream",
     "text": [
      "C:\\Users\\40107588\\AppData\\Local\\Temp\\ipykernel_3444\\1656202261.py:13: FutureWarning: suggest_loguniform has been deprecated in v3.0.0. This feature will be removed in v6.0.0. See https://github.com/optuna/optuna/releases/tag/v3.0.0. Use suggest_float(..., log=True) instead.\n",
      "  \"l2_leaf_reg\": trial.suggest_loguniform(\"l2_leaf_reg\", 1e-8, 100), #L2 regularization coefficient for leaf weights\n"
     ]
    },
    {
     "name": "stdout",
     "output_type": "stream",
     "text": [
      "Training on fold [0/5]\n",
      "\n",
      "bestTest = 0.4375473825\n",
      "bestIteration = 199\n",
      "\n",
      "Training on fold [1/5]\n",
      "\n",
      "bestTest = 0.4363755734\n",
      "bestIteration = 199\n",
      "\n",
      "Training on fold [2/5]\n",
      "\n",
      "bestTest = 0.4450582865\n",
      "bestIteration = 199\n",
      "\n",
      "Training on fold [3/5]\n",
      "\n",
      "bestTest = 0.4359606215\n",
      "bestIteration = 199\n",
      "\n",
      "Training on fold [4/5]\n"
     ]
    },
    {
     "name": "stderr",
     "output_type": "stream",
     "text": [
      "[I 2024-07-26 11:33:00,795] Trial 13 finished with value: 0.8589146047709896 and parameters: {'iterations': 200, 'learning_rate': 0.01531209232658981, 'random_strength': 1, 'bagging_temperature': 5, 'max_bin': 6, 'grow_policy': 'SymmetricTree', 'min_data_in_leaf': 3, 'max_depth': 6, 'l2_leaf_reg': 0.20127448967652856, 'one_hot_max_size': 1024, 'auto_class_weights': 'SqrtBalanced'}. Best is trial 1 with value: 0.8641005119276188.\n"
     ]
    },
    {
     "name": "stdout",
     "output_type": "stream",
     "text": [
      "\n",
      "bestTest = 0.4441568326\n",
      "bestIteration = 199\n",
      "\n"
     ]
    },
    {
     "name": "stderr",
     "output_type": "stream",
     "text": [
      "C:\\Users\\40107588\\AppData\\Local\\Temp\\ipykernel_3444\\1656202261.py:13: FutureWarning: suggest_loguniform has been deprecated in v3.0.0. This feature will be removed in v6.0.0. See https://github.com/optuna/optuna/releases/tag/v3.0.0. Use suggest_float(..., log=True) instead.\n",
      "  \"l2_leaf_reg\": trial.suggest_loguniform(\"l2_leaf_reg\", 1e-8, 100), #L2 regularization coefficient for leaf weights\n"
     ]
    },
    {
     "name": "stdout",
     "output_type": "stream",
     "text": [
      "Training on fold [0/5]\n",
      "\n",
      "bestTest = 0.4737573644\n",
      "bestIteration = 88\n",
      "\n",
      "Training on fold [1/5]\n",
      "\n",
      "bestTest = 0.4616253621\n",
      "bestIteration = 94\n",
      "\n",
      "Training on fold [2/5]\n",
      "\n",
      "bestTest = 0.4783586855\n",
      "bestIteration = 82\n",
      "\n",
      "Training on fold [3/5]\n",
      "\n",
      "bestTest = 0.4751642426\n",
      "bestIteration = 87\n",
      "\n",
      "Training on fold [4/5]\n"
     ]
    },
    {
     "name": "stderr",
     "output_type": "stream",
     "text": [
      "[I 2024-07-26 11:36:12,507] Trial 14 finished with value: 0.8548841474157653 and parameters: {'iterations': 1500, 'learning_rate': 0.14690216116501453, 'random_strength': 10, 'bagging_temperature': 2, 'max_bin': 10, 'grow_policy': 'Lossguide', 'min_data_in_leaf': 3, 'max_depth': 9, 'l2_leaf_reg': 0.0012700604558864655, 'one_hot_max_size': 5, 'auto_class_weights': 'Balanced'}. Best is trial 1 with value: 0.8641005119276188.\n"
     ]
    },
    {
     "name": "stdout",
     "output_type": "stream",
     "text": [
      "\n",
      "bestTest = 0.4809768942\n",
      "bestIteration = 90\n",
      "\n",
      "Training on fold [0/5]\n"
     ]
    },
    {
     "name": "stderr",
     "output_type": "stream",
     "text": [
      "C:\\Users\\40107588\\AppData\\Local\\Temp\\ipykernel_3444\\1656202261.py:13: FutureWarning: suggest_loguniform has been deprecated in v3.0.0. This feature will be removed in v6.0.0. See https://github.com/optuna/optuna/releases/tag/v3.0.0. Use suggest_float(..., log=True) instead.\n",
      "  \"l2_leaf_reg\": trial.suggest_loguniform(\"l2_leaf_reg\", 1e-8, 100), #L2 regularization coefficient for leaf weights\n"
     ]
    },
    {
     "name": "stdout",
     "output_type": "stream",
     "text": [
      "\n",
      "bestTest = 0.4317698081\n",
      "bestIteration = 126\n",
      "\n",
      "Training on fold [1/5]\n",
      "\n",
      "bestTest = 0.4202879243\n",
      "bestIteration = 155\n",
      "\n",
      "Training on fold [2/5]\n",
      "\n",
      "bestTest = 0.4326630517\n",
      "bestIteration = 192\n",
      "\n",
      "Training on fold [3/5]\n",
      "\n",
      "bestTest = 0.4283857663\n",
      "bestIteration = 118\n",
      "\n",
      "Training on fold [4/5]\n"
     ]
    },
    {
     "name": "stderr",
     "output_type": "stream",
     "text": [
      "[I 2024-07-26 11:36:38,629] Trial 15 finished with value: 0.8619844345622972 and parameters: {'iterations': 500, 'learning_rate': 0.10902072034609424, 'random_strength': 9, 'bagging_temperature': 10, 'max_bin': 4, 'grow_policy': 'Depthwise', 'min_data_in_leaf': 5, 'max_depth': 4, 'l2_leaf_reg': 9.46314667205651e-06, 'one_hot_max_size': 12, 'auto_class_weights': 'SqrtBalanced'}. Best is trial 1 with value: 0.8641005119276188.\n"
     ]
    },
    {
     "name": "stdout",
     "output_type": "stream",
     "text": [
      "\n",
      "bestTest = 0.4310683534\n",
      "bestIteration = 144\n",
      "\n",
      "Training on fold [0/5]\n"
     ]
    },
    {
     "name": "stderr",
     "output_type": "stream",
     "text": [
      "C:\\Users\\40107588\\AppData\\Local\\Temp\\ipykernel_3444\\1656202261.py:13: FutureWarning: suggest_loguniform has been deprecated in v3.0.0. This feature will be removed in v6.0.0. See https://github.com/optuna/optuna/releases/tag/v3.0.0. Use suggest_float(..., log=True) instead.\n",
      "  \"l2_leaf_reg\": trial.suggest_loguniform(\"l2_leaf_reg\", 1e-8, 100), #L2 regularization coefficient for leaf weights\n"
     ]
    },
    {
     "name": "stdout",
     "output_type": "stream",
     "text": [
      "\n",
      "bestTest = 0.4248927152\n",
      "bestIteration = 142\n",
      "\n",
      "Training on fold [1/5]\n",
      "\n",
      "bestTest = 0.4210729016\n",
      "bestIteration = 151\n",
      "\n",
      "Training on fold [2/5]\n",
      "\n",
      "bestTest = 0.4293761693\n",
      "bestIteration = 142\n",
      "\n",
      "Training on fold [3/5]\n",
      "\n",
      "bestTest = 0.4296664949\n",
      "bestIteration = 87\n",
      "\n",
      "Training on fold [4/5]\n"
     ]
    },
    {
     "name": "stderr",
     "output_type": "stream",
     "text": [
      "[I 2024-07-26 11:36:45,033] Trial 16 finished with value: 0.8642133032213637 and parameters: {'iterations': 300, 'learning_rate': 0.19373131951584033, 'random_strength': 6, 'bagging_temperature': 4, 'max_bin': 5, 'grow_policy': 'SymmetricTree', 'min_data_in_leaf': 8, 'max_depth': 3, 'l2_leaf_reg': 0.1793344946668409, 'one_hot_max_size': 100, 'auto_class_weights': 'SqrtBalanced'}. Best is trial 16 with value: 0.8642133032213637.\n"
     ]
    },
    {
     "name": "stdout",
     "output_type": "stream",
     "text": [
      "\n",
      "bestTest = 0.4280529349\n",
      "bestIteration = 127\n",
      "\n",
      "Training on fold [0/5]\n"
     ]
    },
    {
     "name": "stderr",
     "output_type": "stream",
     "text": [
      "C:\\Users\\40107588\\AppData\\Local\\Temp\\ipykernel_3444\\1656202261.py:13: FutureWarning: suggest_loguniform has been deprecated in v3.0.0. This feature will be removed in v6.0.0. See https://github.com/optuna/optuna/releases/tag/v3.0.0. Use suggest_float(..., log=True) instead.\n",
      "  \"l2_leaf_reg\": trial.suggest_loguniform(\"l2_leaf_reg\", 1e-8, 100), #L2 regularization coefficient for leaf weights\n"
     ]
    },
    {
     "name": "stdout",
     "output_type": "stream",
     "text": [
      "\n",
      "bestTest = 0.4262312805\n",
      "bestIteration = 127\n",
      "\n",
      "Training on fold [1/5]\n",
      "\n",
      "bestTest = 0.4207886186\n",
      "bestIteration = 107\n",
      "\n",
      "Training on fold [2/5]\n",
      "\n",
      "bestTest = 0.4296821913\n",
      "bestIteration = 138\n",
      "\n",
      "Training on fold [3/5]\n",
      "\n",
      "bestTest = 0.4268313144\n",
      "bestIteration = 115\n",
      "\n",
      "Training on fold [4/5]\n"
     ]
    },
    {
     "name": "stderr",
     "output_type": "stream",
     "text": [
      "[I 2024-07-26 11:36:51,784] Trial 17 finished with value: 0.864632449767259 and parameters: {'iterations': 300, 'learning_rate': 0.18816956560325993, 'random_strength': 6, 'bagging_temperature': 3, 'max_bin': 5, 'grow_policy': 'SymmetricTree', 'min_data_in_leaf': 8, 'max_depth': 3, 'l2_leaf_reg': 0.8214169197680212, 'one_hot_max_size': 500, 'auto_class_weights': 'SqrtBalanced'}. Best is trial 17 with value: 0.864632449767259.\n"
     ]
    },
    {
     "name": "stdout",
     "output_type": "stream",
     "text": [
      "\n",
      "bestTest = 0.4270145064\n",
      "bestIteration = 113\n",
      "\n",
      "Training on fold [0/5]\n"
     ]
    },
    {
     "name": "stderr",
     "output_type": "stream",
     "text": [
      "C:\\Users\\40107588\\AppData\\Local\\Temp\\ipykernel_3444\\1656202261.py:13: FutureWarning: suggest_loguniform has been deprecated in v3.0.0. This feature will be removed in v6.0.0. See https://github.com/optuna/optuna/releases/tag/v3.0.0. Use suggest_float(..., log=True) instead.\n",
      "  \"l2_leaf_reg\": trial.suggest_loguniform(\"l2_leaf_reg\", 1e-8, 100), #L2 regularization coefficient for leaf weights\n"
     ]
    },
    {
     "name": "stdout",
     "output_type": "stream",
     "text": [
      "\n",
      "bestTest = 0.462140698\n",
      "bestIteration = 111\n",
      "\n",
      "Training on fold [1/5]\n",
      "\n",
      "bestTest = 0.449476374\n",
      "bestIteration = 148\n",
      "\n",
      "Training on fold [2/5]\n",
      "\n",
      "bestTest = 0.4606841436\n",
      "bestIteration = 214\n",
      "\n",
      "Training on fold [3/5]\n",
      "\n",
      "bestTest = 0.4594622476\n",
      "bestIteration = 159\n",
      "\n",
      "Training on fold [4/5]\n"
     ]
    },
    {
     "name": "stderr",
     "output_type": "stream",
     "text": [
      "[I 2024-07-26 11:37:00,217] Trial 18 finished with value: 0.8642606915210294 and parameters: {'iterations': 300, 'learning_rate': 0.1963385646960396, 'random_strength': 6, 'bagging_temperature': 5, 'max_bin': 5, 'grow_policy': 'SymmetricTree', 'min_data_in_leaf': 8, 'max_depth': 3, 'l2_leaf_reg': 88.75986414349809, 'one_hot_max_size': 500, 'auto_class_weights': 'Balanced'}. Best is trial 17 with value: 0.864632449767259.\n"
     ]
    },
    {
     "name": "stdout",
     "output_type": "stream",
     "text": [
      "\n",
      "bestTest = 0.4642626878\n",
      "bestIteration = 102\n",
      "\n",
      "Training on fold [0/5]\n"
     ]
    },
    {
     "name": "stderr",
     "output_type": "stream",
     "text": [
      "C:\\Users\\40107588\\AppData\\Local\\Temp\\ipykernel_3444\\1656202261.py:13: FutureWarning: suggest_loguniform has been deprecated in v3.0.0. This feature will be removed in v6.0.0. See https://github.com/optuna/optuna/releases/tag/v3.0.0. Use suggest_float(..., log=True) instead.\n",
      "  \"l2_leaf_reg\": trial.suggest_loguniform(\"l2_leaf_reg\", 1e-8, 100), #L2 regularization coefficient for leaf weights\n"
     ]
    },
    {
     "name": "stdout",
     "output_type": "stream",
     "text": [
      "\n",
      "bestTest = 0.460548384\n",
      "bestIteration = 59\n",
      "\n",
      "Training on fold [1/5]\n",
      "\n",
      "bestTest = 0.4497520676\n",
      "bestIteration = 81\n",
      "\n",
      "Training on fold [2/5]\n",
      "\n",
      "bestTest = 0.4598481924\n",
      "bestIteration = 87\n",
      "\n",
      "Training on fold [3/5]\n",
      "\n",
      "bestTest = 0.4576226659\n",
      "bestIteration = 71\n",
      "\n",
      "Training on fold [4/5]\n"
     ]
    },
    {
     "name": "stderr",
     "output_type": "stream",
     "text": [
      "[I 2024-07-26 11:37:06,115] Trial 19 finished with value: 0.864939107462057 and parameters: {'iterations': 300, 'learning_rate': 0.23569005361166914, 'random_strength': 5, 'bagging_temperature': 7, 'max_bin': 5, 'grow_policy': 'SymmetricTree', 'min_data_in_leaf': 8, 'max_depth': 6, 'l2_leaf_reg': 99.11695455168547, 'one_hot_max_size': 500, 'auto_class_weights': 'Balanced'}. Best is trial 19 with value: 0.864939107462057.\n"
     ]
    },
    {
     "name": "stdout",
     "output_type": "stream",
     "text": [
      "\n",
      "bestTest = 0.4623382534\n",
      "bestIteration = 69\n",
      "\n",
      "Training on fold [0/5]\n"
     ]
    },
    {
     "name": "stderr",
     "output_type": "stream",
     "text": [
      "C:\\Users\\40107588\\AppData\\Local\\Temp\\ipykernel_3444\\1656202261.py:13: FutureWarning: suggest_loguniform has been deprecated in v3.0.0. This feature will be removed in v6.0.0. See https://github.com/optuna/optuna/releases/tag/v3.0.0. Use suggest_float(..., log=True) instead.\n",
      "  \"l2_leaf_reg\": trial.suggest_loguniform(\"l2_leaf_reg\", 1e-8, 100), #L2 regularization coefficient for leaf weights\n"
     ]
    },
    {
     "name": "stdout",
     "output_type": "stream",
     "text": [
      "\n",
      "bestTest = 0.4618127859\n",
      "bestIteration = 57\n",
      "\n",
      "Training on fold [1/5]\n",
      "\n",
      "bestTest = 0.4515811211\n",
      "bestIteration = 68\n",
      "\n",
      "Training on fold [2/5]\n",
      "\n",
      "bestTest = 0.4629880341\n",
      "bestIteration = 60\n",
      "\n",
      "Training on fold [3/5]\n",
      "\n",
      "bestTest = 0.4581180791\n",
      "bestIteration = 68\n",
      "\n",
      "Training on fold [4/5]\n"
     ]
    },
    {
     "name": "stderr",
     "output_type": "stream",
     "text": [
      "[I 2024-07-26 11:37:12,102] Trial 20 finished with value: 0.8645877595772367 and parameters: {'iterations': 300, 'learning_rate': 0.2348670283036838, 'random_strength': 5, 'bagging_temperature': 7, 'max_bin': 5, 'grow_policy': 'SymmetricTree', 'min_data_in_leaf': 10, 'max_depth': 7, 'l2_leaf_reg': 90.56559174112068, 'one_hot_max_size': 500, 'auto_class_weights': 'Balanced'}. Best is trial 19 with value: 0.864939107462057.\n"
     ]
    },
    {
     "name": "stdout",
     "output_type": "stream",
     "text": [
      "\n",
      "bestTest = 0.4615723544\n",
      "bestIteration = 82\n",
      "\n",
      "Training on fold [0/5]\n"
     ]
    },
    {
     "name": "stderr",
     "output_type": "stream",
     "text": [
      "C:\\Users\\40107588\\AppData\\Local\\Temp\\ipykernel_3444\\1656202261.py:13: FutureWarning: suggest_loguniform has been deprecated in v3.0.0. This feature will be removed in v6.0.0. See https://github.com/optuna/optuna/releases/tag/v3.0.0. Use suggest_float(..., log=True) instead.\n",
      "  \"l2_leaf_reg\": trial.suggest_loguniform(\"l2_leaf_reg\", 1e-8, 100), #L2 regularization coefficient for leaf weights\n"
     ]
    },
    {
     "name": "stdout",
     "output_type": "stream",
     "text": [
      "\n",
      "bestTest = 0.4641950141\n",
      "bestIteration = 45\n",
      "\n",
      "Training on fold [1/5]\n",
      "\n",
      "bestTest = 0.4504849222\n",
      "bestIteration = 61\n",
      "\n",
      "Training on fold [2/5]\n",
      "\n",
      "bestTest = 0.4651648897\n",
      "bestIteration = 68\n",
      "\n",
      "Training on fold [3/5]\n",
      "\n",
      "bestTest = 0.4615801921\n",
      "bestIteration = 41\n",
      "\n",
      "Training on fold [4/5]\n"
     ]
    },
    {
     "name": "stderr",
     "output_type": "stream",
     "text": [
      "[I 2024-07-26 11:37:17,658] Trial 21 finished with value: 0.8624742662806805 and parameters: {'iterations': 300, 'learning_rate': 0.2986378408800963, 'random_strength': 5, 'bagging_temperature': 7, 'max_bin': 5, 'grow_policy': 'SymmetricTree', 'min_data_in_leaf': 10, 'max_depth': 8, 'l2_leaf_reg': 98.70852826178593, 'one_hot_max_size': 500, 'auto_class_weights': 'Balanced'}. Best is trial 19 with value: 0.864939107462057.\n"
     ]
    },
    {
     "name": "stdout",
     "output_type": "stream",
     "text": [
      "\n",
      "bestTest = 0.4693546903\n",
      "bestIteration = 52\n",
      "\n",
      "Training on fold [0/5]\n"
     ]
    },
    {
     "name": "stderr",
     "output_type": "stream",
     "text": [
      "C:\\Users\\40107588\\AppData\\Local\\Temp\\ipykernel_3444\\1656202261.py:13: FutureWarning: suggest_loguniform has been deprecated in v3.0.0. This feature will be removed in v6.0.0. See https://github.com/optuna/optuna/releases/tag/v3.0.0. Use suggest_float(..., log=True) instead.\n",
      "  \"l2_leaf_reg\": trial.suggest_loguniform(\"l2_leaf_reg\", 1e-8, 100), #L2 regularization coefficient for leaf weights\n"
     ]
    },
    {
     "name": "stdout",
     "output_type": "stream",
     "text": [
      "\n",
      "bestTest = 0.4716102351\n",
      "bestIteration = 49\n",
      "\n",
      "Training on fold [1/5]\n",
      "\n",
      "bestTest = 0.4573710779\n",
      "bestIteration = 56\n",
      "\n",
      "Training on fold [2/5]\n",
      "\n",
      "bestTest = 0.4632409291\n",
      "bestIteration = 62\n",
      "\n",
      "Training on fold [3/5]\n",
      "\n",
      "bestTest = 0.4668002345\n",
      "bestIteration = 51\n",
      "\n",
      "Training on fold [4/5]\n"
     ]
    },
    {
     "name": "stderr",
     "output_type": "stream",
     "text": [
      "[I 2024-07-26 11:37:22,512] Trial 22 finished with value: 0.8599138388033742 and parameters: {'iterations': 300, 'learning_rate': 0.23478879966857782, 'random_strength': 5, 'bagging_temperature': 7, 'max_bin': 5, 'grow_policy': 'SymmetricTree', 'min_data_in_leaf': 9, 'max_depth': 7, 'l2_leaf_reg': 1.4179471935692007, 'one_hot_max_size': 500, 'auto_class_weights': 'Balanced'}. Best is trial 19 with value: 0.864939107462057.\n"
     ]
    },
    {
     "name": "stdout",
     "output_type": "stream",
     "text": [
      "\n",
      "bestTest = 0.4703752638\n",
      "bestIteration = 41\n",
      "\n",
      "Training on fold [0/5]\n"
     ]
    },
    {
     "name": "stderr",
     "output_type": "stream",
     "text": [
      "C:\\Users\\40107588\\AppData\\Local\\Temp\\ipykernel_3444\\1656202261.py:13: FutureWarning: suggest_loguniform has been deprecated in v3.0.0. This feature will be removed in v6.0.0. See https://github.com/optuna/optuna/releases/tag/v3.0.0. Use suggest_float(..., log=True) instead.\n",
      "  \"l2_leaf_reg\": trial.suggest_loguniform(\"l2_leaf_reg\", 1e-8, 100), #L2 regularization coefficient for leaf weights\n"
     ]
    },
    {
     "name": "stdout",
     "output_type": "stream",
     "text": [
      "\n",
      "bestTest = 0.4663417863\n",
      "bestIteration = 52\n",
      "\n",
      "Training on fold [1/5]\n",
      "\n",
      "bestTest = 0.4435003446\n",
      "bestIteration = 114\n",
      "\n",
      "Training on fold [2/5]\n",
      "\n",
      "bestTest = 0.4629707012\n",
      "bestIteration = 84\n",
      "\n",
      "Training on fold [3/5]\n",
      "\n",
      "bestTest = 0.4602919725\n",
      "bestIteration = 69\n",
      "\n",
      "Training on fold [4/5]\n"
     ]
    },
    {
     "name": "stderr",
     "output_type": "stream",
     "text": [
      "[I 2024-07-26 11:37:28,688] Trial 23 finished with value: 0.864040909948705 and parameters: {'iterations': 300, 'learning_rate': 0.1766102688172111, 'random_strength': 4, 'bagging_temperature': 6, 'max_bin': 5, 'grow_policy': 'SymmetricTree', 'min_data_in_leaf': 7, 'max_depth': 6, 'l2_leaf_reg': 16.414831944848384, 'one_hot_max_size': 500, 'auto_class_weights': 'Balanced'}. Best is trial 19 with value: 0.864939107462057.\n"
     ]
    },
    {
     "name": "stdout",
     "output_type": "stream",
     "text": [
      "\n",
      "bestTest = 0.4638399575\n",
      "bestIteration = 84\n",
      "\n",
      "Training on fold [0/5]\n"
     ]
    },
    {
     "name": "stderr",
     "output_type": "stream",
     "text": [
      "C:\\Users\\40107588\\AppData\\Local\\Temp\\ipykernel_3444\\1656202261.py:13: FutureWarning: suggest_loguniform has been deprecated in v3.0.0. This feature will be removed in v6.0.0. See https://github.com/optuna/optuna/releases/tag/v3.0.0. Use suggest_float(..., log=True) instead.\n",
      "  \"l2_leaf_reg\": trial.suggest_loguniform(\"l2_leaf_reg\", 1e-8, 100), #L2 regularization coefficient for leaf weights\n"
     ]
    },
    {
     "name": "stdout",
     "output_type": "stream",
     "text": [
      "\n",
      "bestTest = 0.4739639645\n",
      "bestIteration = 37\n",
      "\n",
      "Training on fold [1/5]\n",
      "\n",
      "bestTest = 0.4644124745\n",
      "bestIteration = 53\n",
      "\n",
      "Training on fold [2/5]\n",
      "\n",
      "bestTest = 0.4795641633\n",
      "bestIteration = 28\n",
      "\n",
      "Training on fold [3/5]\n",
      "\n",
      "bestTest = 0.4661612077\n",
      "bestIteration = 38\n",
      "\n",
      "Training on fold [4/5]\n"
     ]
    },
    {
     "name": "stderr",
     "output_type": "stream",
     "text": [
      "[I 2024-07-26 11:37:33,187] Trial 24 finished with value: 0.8564027877520338 and parameters: {'iterations': 300, 'learning_rate': 0.23759349195814128, 'random_strength': 7, 'bagging_temperature': 8, 'max_bin': 5, 'grow_policy': 'SymmetricTree', 'min_data_in_leaf': 9, 'max_depth': 8, 'l2_leaf_reg': 1.0635393991514817, 'one_hot_max_size': 500, 'auto_class_weights': 'Balanced'}. Best is trial 19 with value: 0.864939107462057.\n"
     ]
    },
    {
     "name": "stdout",
     "output_type": "stream",
     "text": [
      "\n",
      "bestTest = 0.4766251969\n",
      "bestIteration = 44\n",
      "\n",
      "Training on fold [0/5]\n"
     ]
    },
    {
     "name": "stderr",
     "output_type": "stream",
     "text": [
      "C:\\Users\\40107588\\AppData\\Local\\Temp\\ipykernel_3444\\1656202261.py:13: FutureWarning: suggest_loguniform has been deprecated in v3.0.0. This feature will be removed in v6.0.0. See https://github.com/optuna/optuna/releases/tag/v3.0.0. Use suggest_float(..., log=True) instead.\n",
      "  \"l2_leaf_reg\": trial.suggest_loguniform(\"l2_leaf_reg\", 1e-8, 100), #L2 regularization coefficient for leaf weights\n"
     ]
    },
    {
     "name": "stdout",
     "output_type": "stream",
     "text": [
      "\n",
      "bestTest = 0.4612028579\n",
      "bestIteration = 59\n",
      "\n",
      "Training on fold [1/5]\n",
      "\n",
      "bestTest = 0.4473615907\n",
      "bestIteration = 88\n",
      "\n",
      "Training on fold [2/5]\n",
      "\n",
      "bestTest = 0.4576892785\n",
      "bestIteration = 79\n",
      "\n",
      "Training on fold [3/5]\n",
      "\n",
      "bestTest = 0.459851678\n",
      "bestIteration = 55\n",
      "\n",
      "Training on fold [4/5]\n"
     ]
    },
    {
     "name": "stderr",
     "output_type": "stream",
     "text": [
      "[I 2024-07-26 11:37:38,577] Trial 25 finished with value: 0.8649879135745673 and parameters: {'iterations': 1000, 'learning_rate': 0.2156867432301418, 'random_strength': 2, 'bagging_temperature': 8, 'max_bin': 8, 'grow_policy': 'SymmetricTree', 'min_data_in_leaf': 9, 'max_depth': 5, 'l2_leaf_reg': 23.486944579260328, 'one_hot_max_size': 500, 'auto_class_weights': 'Balanced'}. Best is trial 25 with value: 0.8649879135745673.\n"
     ]
    },
    {
     "name": "stdout",
     "output_type": "stream",
     "text": [
      "\n",
      "bestTest = 0.4612628708\n",
      "bestIteration = 64\n",
      "\n",
      "Training on fold [0/5]\n"
     ]
    },
    {
     "name": "stderr",
     "output_type": "stream",
     "text": [
      "C:\\Users\\40107588\\AppData\\Local\\Temp\\ipykernel_3444\\1656202261.py:13: FutureWarning: suggest_loguniform has been deprecated in v3.0.0. This feature will be removed in v6.0.0. See https://github.com/optuna/optuna/releases/tag/v3.0.0. Use suggest_float(..., log=True) instead.\n",
      "  \"l2_leaf_reg\": trial.suggest_loguniform(\"l2_leaf_reg\", 1e-8, 100), #L2 regularization coefficient for leaf weights\n"
     ]
    },
    {
     "name": "stdout",
     "output_type": "stream",
     "text": [
      "\n",
      "bestTest = 0.4634112468\n",
      "bestIteration = 33\n",
      "\n",
      "Training on fold [1/5]\n",
      "\n",
      "bestTest = 0.454246092\n",
      "bestIteration = 56\n",
      "\n",
      "Training on fold [2/5]\n",
      "\n",
      "bestTest = 0.4642904821\n",
      "bestIteration = 62\n",
      "\n",
      "Training on fold [3/5]\n",
      "\n",
      "bestTest = 0.4610832954\n",
      "bestIteration = 49\n",
      "\n",
      "Training on fold [4/5]\n"
     ]
    },
    {
     "name": "stderr",
     "output_type": "stream",
     "text": [
      "[I 2024-07-26 11:37:45,499] Trial 26 finished with value: 0.8634735774251003 and parameters: {'iterations': 1000, 'learning_rate': 0.17770173746722442, 'random_strength': 1, 'bagging_temperature': 8, 'max_bin': 8, 'grow_policy': 'Lossguide', 'min_data_in_leaf': 7, 'max_depth': 5, 'l2_leaf_reg': 12.480240405873914, 'one_hot_max_size': 500, 'auto_class_weights': 'Balanced'}. Best is trial 25 with value: 0.8649879135745673.\n"
     ]
    },
    {
     "name": "stdout",
     "output_type": "stream",
     "text": [
      "\n",
      "bestTest = 0.4606995028\n",
      "bestIteration = 73\n",
      "\n",
      "Training on fold [0/5]\n"
     ]
    },
    {
     "name": "stderr",
     "output_type": "stream",
     "text": [
      "C:\\Users\\40107588\\AppData\\Local\\Temp\\ipykernel_3444\\1656202261.py:13: FutureWarning: suggest_loguniform has been deprecated in v3.0.0. This feature will be removed in v6.0.0. See https://github.com/optuna/optuna/releases/tag/v3.0.0. Use suggest_float(..., log=True) instead.\n",
      "  \"l2_leaf_reg\": trial.suggest_loguniform(\"l2_leaf_reg\", 1e-8, 100), #L2 regularization coefficient for leaf weights\n"
     ]
    },
    {
     "name": "stdout",
     "output_type": "stream",
     "text": [
      "\n",
      "bestTest = 0.4648200352\n",
      "bestIteration = 50\n",
      "\n",
      "Training on fold [1/5]\n",
      "\n",
      "bestTest = 0.453566199\n",
      "bestIteration = 78\n",
      "\n",
      "Training on fold [2/5]\n",
      "\n",
      "bestTest = 0.4697375146\n",
      "bestIteration = 55\n",
      "\n",
      "Training on fold [3/5]\n",
      "\n",
      "bestTest = 0.4679156741\n",
      "bestIteration = 38\n",
      "\n",
      "Training on fold [4/5]\n"
     ]
    },
    {
     "name": "stderr",
     "output_type": "stream",
     "text": [
      "[I 2024-07-26 11:38:02,788] Trial 27 finished with value: 0.8610437147655091 and parameters: {'iterations': 1000, 'learning_rate': 0.20922868518021023, 'random_strength': 2, 'bagging_temperature': 9, 'max_bin': 8, 'grow_policy': 'SymmetricTree', 'min_data_in_leaf': 9, 'max_depth': 6, 'l2_leaf_reg': 0.5606299501794255, 'one_hot_max_size': 12, 'auto_class_weights': 'Balanced'}. Best is trial 25 with value: 0.8649879135745673.\n"
     ]
    },
    {
     "name": "stdout",
     "output_type": "stream",
     "text": [
      "\n",
      "bestTest = 0.4614888594\n",
      "bestIteration = 53\n",
      "\n",
      "Training on fold [0/5]\n"
     ]
    },
    {
     "name": "stderr",
     "output_type": "stream",
     "text": [
      "C:\\Users\\40107588\\AppData\\Local\\Temp\\ipykernel_3444\\1656202261.py:13: FutureWarning: suggest_loguniform has been deprecated in v3.0.0. This feature will be removed in v6.0.0. See https://github.com/optuna/optuna/releases/tag/v3.0.0. Use suggest_float(..., log=True) instead.\n",
      "  \"l2_leaf_reg\": trial.suggest_loguniform(\"l2_leaf_reg\", 1e-8, 100), #L2 regularization coefficient for leaf weights\n"
     ]
    },
    {
     "name": "stdout",
     "output_type": "stream",
     "text": [
      "\n",
      "bestTest = 0.4604547564\n",
      "bestIteration = 56\n",
      "\n",
      "Training on fold [1/5]\n",
      "\n",
      "bestTest = 0.4536677789\n",
      "bestIteration = 66\n",
      "\n",
      "Training on fold [2/5]\n",
      "\n",
      "bestTest = 0.4606998378\n",
      "bestIteration = 78\n",
      "\n",
      "Training on fold [3/5]\n",
      "\n",
      "bestTest = 0.4592846007\n",
      "bestIteration = 41\n",
      "\n",
      "Training on fold [4/5]\n"
     ]
    },
    {
     "name": "stderr",
     "output_type": "stream",
     "text": [
      "[I 2024-07-26 11:38:30,518] Trial 28 finished with value: 0.864142043525715 and parameters: {'iterations': 1000, 'learning_rate': 0.29995937910339976, 'random_strength': 2, 'bagging_temperature': 6, 'max_bin': 8, 'grow_policy': 'SymmetricTree', 'min_data_in_leaf': 7, 'max_depth': 5, 'l2_leaf_reg': 19.472391086493886, 'one_hot_max_size': 5, 'auto_class_weights': 'Balanced'}. Best is trial 25 with value: 0.8649879135745673.\n"
     ]
    },
    {
     "name": "stdout",
     "output_type": "stream",
     "text": [
      "\n",
      "bestTest = 0.458827552\n",
      "bestIteration = 56\n",
      "\n",
      "Training on fold [0/5]\n"
     ]
    },
    {
     "name": "stderr",
     "output_type": "stream",
     "text": [
      "C:\\Users\\40107588\\AppData\\Local\\Temp\\ipykernel_3444\\1656202261.py:13: FutureWarning: suggest_loguniform has been deprecated in v3.0.0. This feature will be removed in v6.0.0. See https://github.com/optuna/optuna/releases/tag/v3.0.0. Use suggest_float(..., log=True) instead.\n",
      "  \"l2_leaf_reg\": trial.suggest_loguniform(\"l2_leaf_reg\", 1e-8, 100), #L2 regularization coefficient for leaf weights\n"
     ]
    },
    {
     "name": "stdout",
     "output_type": "stream",
     "text": [
      "\n",
      "bestTest = 0.4679639922\n",
      "bestIteration = 73\n",
      "\n",
      "Training on fold [1/5]\n",
      "\n",
      "bestTest = 0.4520689546\n",
      "bestIteration = 105\n",
      "\n",
      "Training on fold [2/5]\n",
      "\n",
      "bestTest = 0.4720845651\n",
      "bestIteration = 84\n",
      "\n",
      "Training on fold [3/5]\n",
      "\n",
      "bestTest = 0.4674097374\n",
      "bestIteration = 81\n",
      "\n",
      "Training on fold [4/5]\n"
     ]
    },
    {
     "name": "stderr",
     "output_type": "stream",
     "text": [
      "[I 2024-07-26 11:39:02,045] Trial 29 finished with value: 0.8588974891241679 and parameters: {'iterations': 1000, 'learning_rate': 0.172797708570632, 'random_strength': 7, 'bagging_temperature': 1, 'max_bin': 8, 'grow_policy': 'SymmetricTree', 'min_data_in_leaf': 8, 'max_depth': 5, 'l2_leaf_reg': 0.009172197144442293, 'one_hot_max_size': 10, 'auto_class_weights': 'Balanced'}. Best is trial 25 with value: 0.8649879135745673.\n"
     ]
    },
    {
     "name": "stdout",
     "output_type": "stream",
     "text": [
      "\n",
      "bestTest = 0.4769180044\n",
      "bestIteration = 46\n",
      "\n",
      "Training on fold [0/5]\n"
     ]
    },
    {
     "name": "stderr",
     "output_type": "stream",
     "text": [
      "C:\\Users\\40107588\\AppData\\Local\\Temp\\ipykernel_3444\\1656202261.py:13: FutureWarning: suggest_loguniform has been deprecated in v3.0.0. This feature will be removed in v6.0.0. See https://github.com/optuna/optuna/releases/tag/v3.0.0. Use suggest_float(..., log=True) instead.\n",
      "  \"l2_leaf_reg\": trial.suggest_loguniform(\"l2_leaf_reg\", 1e-8, 100), #L2 regularization coefficient for leaf weights\n"
     ]
    },
    {
     "name": "stdout",
     "output_type": "stream",
     "text": [
      "\n",
      "bestTest = 0.4656053966\n",
      "bestIteration = 65\n",
      "\n",
      "Training on fold [1/5]\n",
      "\n",
      "bestTest = 0.4520665149\n",
      "bestIteration = 78\n",
      "\n",
      "Training on fold [2/5]\n",
      "\n",
      "bestTest = 0.4619349169\n",
      "bestIteration = 66\n",
      "\n",
      "Training on fold [3/5]\n",
      "\n",
      "bestTest = 0.4602943464\n",
      "bestIteration = 55\n",
      "\n",
      "Training on fold [4/5]\n"
     ]
    },
    {
     "name": "stderr",
     "output_type": "stream",
     "text": [
      "[I 2024-07-26 11:39:07,663] Trial 30 finished with value: 0.8629200945573526 and parameters: {'iterations': 100, 'learning_rate': 0.2518180465506497, 'random_strength': 3, 'bagging_temperature': 9, 'max_bin': 4, 'grow_policy': 'SymmetricTree', 'min_data_in_leaf': 9, 'max_depth': 4, 'l2_leaf_reg': 0.39119673843807323, 'one_hot_max_size': 1024, 'auto_class_weights': 'Balanced'}. Best is trial 25 with value: 0.8649879135745673.\n"
     ]
    },
    {
     "name": "stdout",
     "output_type": "stream",
     "text": [
      "\n",
      "bestTest = 0.4657292284\n",
      "bestIteration = 63\n",
      "\n",
      "Training on fold [0/5]\n"
     ]
    },
    {
     "name": "stderr",
     "output_type": "stream",
     "text": [
      "C:\\Users\\40107588\\AppData\\Local\\Temp\\ipykernel_3444\\1656202261.py:13: FutureWarning: suggest_loguniform has been deprecated in v3.0.0. This feature will be removed in v6.0.0. See https://github.com/optuna/optuna/releases/tag/v3.0.0. Use suggest_float(..., log=True) instead.\n",
      "  \"l2_leaf_reg\": trial.suggest_loguniform(\"l2_leaf_reg\", 1e-8, 100), #L2 regularization coefficient for leaf weights\n"
     ]
    },
    {
     "name": "stdout",
     "output_type": "stream",
     "text": [
      "\n",
      "bestTest = 0.4622279283\n",
      "bestIteration = 61\n",
      "\n",
      "Training on fold [1/5]\n",
      "\n",
      "bestTest = 0.4532731004\n",
      "bestIteration = 62\n",
      "\n",
      "Training on fold [2/5]\n",
      "\n",
      "bestTest = 0.4608995713\n",
      "bestIteration = 65\n",
      "\n",
      "Training on fold [3/5]\n",
      "\n",
      "bestTest = 0.4618123527\n",
      "bestIteration = 59\n",
      "\n",
      "Training on fold [4/5]\n"
     ]
    },
    {
     "name": "stderr",
     "output_type": "stream",
     "text": [
      "[I 2024-07-26 11:39:16,172] Trial 31 finished with value: 0.8642958788055776 and parameters: {'iterations': 300, 'learning_rate': 0.22498426046976158, 'random_strength': 5, 'bagging_temperature': 7, 'max_bin': 5, 'grow_policy': 'SymmetricTree', 'min_data_in_leaf': 10, 'max_depth': 8, 'l2_leaf_reg': 81.61915563595787, 'one_hot_max_size': 500, 'auto_class_weights': 'Balanced'}. Best is trial 25 with value: 0.8649879135745673.\n"
     ]
    },
    {
     "name": "stdout",
     "output_type": "stream",
     "text": [
      "\n",
      "bestTest = 0.4616866917\n",
      "bestIteration = 61\n",
      "\n",
      "Training on fold [0/5]\n"
     ]
    },
    {
     "name": "stderr",
     "output_type": "stream",
     "text": [
      "C:\\Users\\40107588\\AppData\\Local\\Temp\\ipykernel_3444\\1656202261.py:13: FutureWarning: suggest_loguniform has been deprecated in v3.0.0. This feature will be removed in v6.0.0. See https://github.com/optuna/optuna/releases/tag/v3.0.0. Use suggest_float(..., log=True) instead.\n",
      "  \"l2_leaf_reg\": trial.suggest_loguniform(\"l2_leaf_reg\", 1e-8, 100), #L2 regularization coefficient for leaf weights\n"
     ]
    },
    {
     "name": "stdout",
     "output_type": "stream",
     "text": [
      "\n",
      "bestTest = 0.4600599474\n",
      "bestIteration = 57\n",
      "\n",
      "Training on fold [1/5]\n",
      "\n",
      "bestTest = 0.4534847617\n",
      "bestIteration = 61\n",
      "\n",
      "Training on fold [2/5]\n",
      "\n",
      "bestTest = 0.4660143912\n",
      "bestIteration = 51\n",
      "\n",
      "Training on fold [3/5]\n",
      "\n",
      "bestTest = 0.4592403173\n",
      "bestIteration = 58\n",
      "\n",
      "Training on fold [4/5]\n"
     ]
    },
    {
     "name": "stderr",
     "output_type": "stream",
     "text": [
      "[I 2024-07-26 11:39:23,804] Trial 32 finished with value: 0.8634946138976914 and parameters: {'iterations': 300, 'learning_rate': 0.21696965658871908, 'random_strength': 5, 'bagging_temperature': 6, 'max_bin': 5, 'grow_policy': 'SymmetricTree', 'min_data_in_leaf': 9, 'max_depth': 6, 'l2_leaf_reg': 4.633912596380363, 'one_hot_max_size': 500, 'auto_class_weights': 'Balanced'}. Best is trial 25 with value: 0.8649879135745673.\n"
     ]
    },
    {
     "name": "stdout",
     "output_type": "stream",
     "text": [
      "\n",
      "bestTest = 0.4628757605\n",
      "bestIteration = 64\n",
      "\n",
      "Training on fold [0/5]\n"
     ]
    },
    {
     "name": "stderr",
     "output_type": "stream",
     "text": [
      "C:\\Users\\40107588\\AppData\\Local\\Temp\\ipykernel_3444\\1656202261.py:13: FutureWarning: suggest_loguniform has been deprecated in v3.0.0. This feature will be removed in v6.0.0. See https://github.com/optuna/optuna/releases/tag/v3.0.0. Use suggest_float(..., log=True) instead.\n",
      "  \"l2_leaf_reg\": trial.suggest_loguniform(\"l2_leaf_reg\", 1e-8, 100), #L2 regularization coefficient for leaf weights\n"
     ]
    },
    {
     "name": "stdout",
     "output_type": "stream",
     "text": [
      "\n",
      "bestTest = 0.459485419\n",
      "bestIteration = 52\n",
      "\n",
      "Training on fold [1/5]\n",
      "\n",
      "bestTest = 0.4501531924\n",
      "bestIteration = 54\n",
      "\n",
      "Training on fold [2/5]\n",
      "\n",
      "bestTest = 0.4598545042\n",
      "bestIteration = 81\n",
      "\n",
      "Training on fold [3/5]\n",
      "\n",
      "bestTest = 0.4575600666\n",
      "bestIteration = 56\n",
      "\n",
      "Training on fold [4/5]\n"
     ]
    },
    {
     "name": "stderr",
     "output_type": "stream",
     "text": [
      "[I 2024-07-26 11:39:35,341] Trial 33 finished with value: 0.8644041592239994 and parameters: {'iterations': 300, 'learning_rate': 0.25275169328934294, 'random_strength': 4, 'bagging_temperature': 3, 'max_bin': 5, 'grow_policy': 'SymmetricTree', 'min_data_in_leaf': 10, 'max_depth': 6, 'l2_leaf_reg': 23.62548823337259, 'one_hot_max_size': 500, 'auto_class_weights': 'Balanced'}. Best is trial 25 with value: 0.8649879135745673.\n"
     ]
    },
    {
     "name": "stdout",
     "output_type": "stream",
     "text": [
      "\n",
      "bestTest = 0.4658984262\n",
      "bestIteration = 49\n",
      "\n",
      "Training on fold [0/5]\n"
     ]
    },
    {
     "name": "stderr",
     "output_type": "stream",
     "text": [
      "C:\\Users\\40107588\\AppData\\Local\\Temp\\ipykernel_3444\\1656202261.py:13: FutureWarning: suggest_loguniform has been deprecated in v3.0.0. This feature will be removed in v6.0.0. See https://github.com/optuna/optuna/releases/tag/v3.0.0. Use suggest_float(..., log=True) instead.\n",
      "  \"l2_leaf_reg\": trial.suggest_loguniform(\"l2_leaf_reg\", 1e-8, 100), #L2 regularization coefficient for leaf weights\n"
     ]
    },
    {
     "name": "stdout",
     "output_type": "stream",
     "text": [
      "\n",
      "bestTest = 0.4703846261\n",
      "bestIteration = 40\n",
      "\n",
      "Training on fold [1/5]\n",
      "\n",
      "bestTest = 0.453794589\n",
      "bestIteration = 49\n",
      "\n",
      "Training on fold [2/5]\n",
      "\n",
      "bestTest = 0.4621746621\n",
      "bestIteration = 54\n",
      "\n",
      "Training on fold [3/5]\n",
      "\n",
      "bestTest = 0.4674793182\n",
      "bestIteration = 47\n",
      "\n",
      "Training on fold [4/5]\n"
     ]
    },
    {
     "name": "stderr",
     "output_type": "stream",
     "text": [
      "[I 2024-07-26 11:39:40,844] Trial 34 finished with value: 0.8611125702384641 and parameters: {'iterations': 1200, 'learning_rate': 0.2807248158212123, 'random_strength': 6, 'bagging_temperature': 8, 'max_bin': 5, 'grow_policy': 'SymmetricTree', 'min_data_in_leaf': 8, 'max_depth': 7, 'l2_leaf_reg': 4.080506119045869, 'one_hot_max_size': 500, 'auto_class_weights': 'Balanced'}. Best is trial 25 with value: 0.8649879135745673.\n"
     ]
    },
    {
     "name": "stdout",
     "output_type": "stream",
     "text": [
      "\n",
      "bestTest = 0.4681509742\n",
      "bestIteration = 42\n",
      "\n",
      "Training on fold [0/5]\n"
     ]
    },
    {
     "name": "stderr",
     "output_type": "stream",
     "text": [
      "C:\\Users\\40107588\\AppData\\Local\\Temp\\ipykernel_3444\\1656202261.py:13: FutureWarning: suggest_loguniform has been deprecated in v3.0.0. This feature will be removed in v6.0.0. See https://github.com/optuna/optuna/releases/tag/v3.0.0. Use suggest_float(..., log=True) instead.\n",
      "  \"l2_leaf_reg\": trial.suggest_loguniform(\"l2_leaf_reg\", 1e-8, 100), #L2 regularization coefficient for leaf weights\n"
     ]
    },
    {
     "name": "stdout",
     "output_type": "stream",
     "text": [
      "\n",
      "bestTest = 0.4629127246\n",
      "bestIteration = 92\n",
      "\n",
      "Training on fold [1/5]\n",
      "\n",
      "bestTest = 0.4512582995\n",
      "bestIteration = 81\n",
      "\n",
      "Training on fold [2/5]\n",
      "\n",
      "bestTest = 0.45751723\n",
      "bestIteration = 100\n",
      "\n",
      "Training on fold [3/5]\n",
      "\n",
      "bestTest = 0.4610131355\n",
      "bestIteration = 88\n",
      "\n",
      "Training on fold [4/5]\n"
     ]
    },
    {
     "name": "stderr",
     "output_type": "stream",
     "text": [
      "[I 2024-07-26 11:40:21,880] Trial 35 finished with value: 0.8654490694569118 and parameters: {'iterations': 300, 'learning_rate': 0.12276716157236615, 'random_strength': 2, 'bagging_temperature': 7, 'max_bin': 30, 'grow_policy': 'SymmetricTree', 'min_data_in_leaf': 7, 'max_depth': 9, 'l2_leaf_reg': 30.88038992767587, 'one_hot_max_size': 10, 'auto_class_weights': 'Balanced'}. Best is trial 35 with value: 0.8654490694569118.\n"
     ]
    },
    {
     "name": "stdout",
     "output_type": "stream",
     "text": [
      "\n",
      "bestTest = 0.4615935627\n",
      "bestIteration = 73\n",
      "\n",
      "Training on fold [0/5]\n"
     ]
    },
    {
     "name": "stderr",
     "output_type": "stream",
     "text": [
      "C:\\Users\\40107588\\AppData\\Local\\Temp\\ipykernel_3444\\1656202261.py:13: FutureWarning: suggest_loguniform has been deprecated in v3.0.0. This feature will be removed in v6.0.0. See https://github.com/optuna/optuna/releases/tag/v3.0.0. Use suggest_float(..., log=True) instead.\n",
      "  \"l2_leaf_reg\": trial.suggest_loguniform(\"l2_leaf_reg\", 1e-8, 100), #L2 regularization coefficient for leaf weights\n"
     ]
    },
    {
     "name": "stdout",
     "output_type": "stream",
     "text": [
      "\n",
      "bestTest = 0.4535011776\n",
      "bestIteration = 21\n",
      "\n",
      "Training on fold [1/5]\n",
      "\n",
      "bestTest = 0.4425727262\n",
      "bestIteration = 39\n",
      "\n",
      "Training on fold [2/5]\n",
      "\n",
      "bestTest = 0.4522476326\n",
      "bestIteration = 23\n",
      "\n",
      "Training on fold [3/5]\n",
      "\n",
      "bestTest = 0.4553986097\n",
      "bestIteration = 22\n",
      "\n",
      "Training on fold [4/5]\n"
     ]
    },
    {
     "name": "stderr",
     "output_type": "stream",
     "text": [
      "[I 2024-07-26 11:40:42,199] Trial 36 finished with value: 0.8454408957897013 and parameters: {'iterations': 500, 'learning_rate': 0.122271751760048, 'random_strength': 2, 'bagging_temperature': 3, 'max_bin': 30, 'grow_policy': 'SymmetricTree', 'min_data_in_leaf': 7, 'max_depth': 10, 'l2_leaf_reg': 0.03402856058335481, 'one_hot_max_size': 10, 'auto_class_weights': 'SqrtBalanced'}. Best is trial 35 with value: 0.8654490694569118.\n"
     ]
    },
    {
     "name": "stdout",
     "output_type": "stream",
     "text": [
      "\n",
      "bestTest = 0.4563538393\n",
      "bestIteration = 22\n",
      "\n",
      "Training on fold [0/5]\n"
     ]
    },
    {
     "name": "stderr",
     "output_type": "stream",
     "text": [
      "C:\\Users\\40107588\\AppData\\Local\\Temp\\ipykernel_3444\\1656202261.py:13: FutureWarning: suggest_loguniform has been deprecated in v3.0.0. This feature will be removed in v6.0.0. See https://github.com/optuna/optuna/releases/tag/v3.0.0. Use suggest_float(..., log=True) instead.\n",
      "  \"l2_leaf_reg\": trial.suggest_loguniform(\"l2_leaf_reg\", 1e-8, 100), #L2 regularization coefficient for leaf weights\n"
     ]
    },
    {
     "name": "stdout",
     "output_type": "stream",
     "text": [
      "\n",
      "bestTest = 0.4586422325\n",
      "bestIteration = 177\n",
      "\n",
      "Training on fold [1/5]\n",
      "\n",
      "bestTest = 0.4483374684\n",
      "bestIteration = 181\n",
      "\n",
      "Training on fold [2/5]\n",
      "\n",
      "bestTest = 0.4565872156\n",
      "bestIteration = 219\n",
      "\n",
      "Training on fold [3/5]\n",
      "\n",
      "bestTest = 0.4576414174\n",
      "bestIteration = 166\n",
      "\n",
      "Training on fold [4/5]\n"
     ]
    },
    {
     "name": "stderr",
     "output_type": "stream",
     "text": [
      "[I 2024-07-26 11:45:30,003] Trial 37 finished with value: 0.8669401824070608 and parameters: {'iterations': 300, 'learning_rate': 0.0725964444647288, 'random_strength': 3, 'bagging_temperature': 5, 'max_bin': 30, 'grow_policy': 'Lossguide', 'min_data_in_leaf': 6, 'max_depth': 9, 'l2_leaf_reg': 25.460998532136795, 'one_hot_max_size': 10, 'auto_class_weights': 'Balanced'}. Best is trial 37 with value: 0.8669401824070608.\n"
     ]
    },
    {
     "name": "stdout",
     "output_type": "stream",
     "text": [
      "\n",
      "bestTest = 0.4591021283\n",
      "bestIteration = 179\n",
      "\n",
      "Training on fold [0/5]\n"
     ]
    },
    {
     "name": "stderr",
     "output_type": "stream",
     "text": [
      "C:\\Users\\40107588\\AppData\\Local\\Temp\\ipykernel_3444\\1656202261.py:13: FutureWarning: suggest_loguniform has been deprecated in v3.0.0. This feature will be removed in v6.0.0. See https://github.com/optuna/optuna/releases/tag/v3.0.0. Use suggest_float(..., log=True) instead.\n",
      "  \"l2_leaf_reg\": trial.suggest_loguniform(\"l2_leaf_reg\", 1e-8, 100), #L2 regularization coefficient for leaf weights\n"
     ]
    },
    {
     "name": "stdout",
     "output_type": "stream",
     "text": [
      "\n",
      "bestTest = 0.4587024856\n",
      "bestIteration = 230\n",
      "\n",
      "Training on fold [1/5]\n",
      "\n",
      "bestTest = 0.4515586051\n",
      "bestIteration = 219\n",
      "\n",
      "Training on fold [2/5]\n",
      "\n",
      "bestTest = 0.4532886141\n",
      "bestIteration = 270\n",
      "\n",
      "Training on fold [3/5]\n",
      "\n",
      "bestTest = 0.458797651\n",
      "bestIteration = 213\n",
      "\n",
      "Training on fold [4/5]\n"
     ]
    },
    {
     "name": "stderr",
     "output_type": "stream",
     "text": [
      "[I 2024-07-26 11:51:57,350] Trial 38 finished with value: 0.8667361480313968 and parameters: {'iterations': 1200, 'learning_rate': 0.05889848477633064, 'random_strength': 3, 'bagging_temperature': 5, 'max_bin': 30, 'grow_policy': 'Lossguide', 'min_data_in_leaf': 6, 'max_depth': 9, 'l2_leaf_reg': 30.49451253234566, 'one_hot_max_size': 10, 'auto_class_weights': 'Balanced'}. Best is trial 37 with value: 0.8669401824070608.\n"
     ]
    },
    {
     "name": "stdout",
     "output_type": "stream",
     "text": [
      "\n",
      "bestTest = 0.4590123658\n",
      "bestIteration = 248\n",
      "\n",
      "Training on fold [0/5]\n"
     ]
    },
    {
     "name": "stderr",
     "output_type": "stream",
     "text": [
      "C:\\Users\\40107588\\AppData\\Local\\Temp\\ipykernel_3444\\1656202261.py:13: FutureWarning: suggest_loguniform has been deprecated in v3.0.0. This feature will be removed in v6.0.0. See https://github.com/optuna/optuna/releases/tag/v3.0.0. Use suggest_float(..., log=True) instead.\n",
      "  \"l2_leaf_reg\": trial.suggest_loguniform(\"l2_leaf_reg\", 1e-8, 100), #L2 regularization coefficient for leaf weights\n"
     ]
    },
    {
     "name": "stdout",
     "output_type": "stream",
     "text": [
      "\n",
      "bestTest = 0.4726479385\n",
      "bestIteration = 159\n",
      "\n",
      "Training on fold [1/5]\n",
      "\n",
      "bestTest = 0.4563275303\n",
      "bestIteration = 218\n",
      "\n",
      "Training on fold [2/5]\n",
      "\n",
      "bestTest = 0.4777974388\n",
      "bestIteration = 143\n",
      "\n",
      "Training on fold [3/5]\n",
      "\n",
      "bestTest = 0.4722173506\n",
      "bestIteration = 124\n",
      "\n",
      "Training on fold [4/5]\n"
     ]
    },
    {
     "name": "stderr",
     "output_type": "stream",
     "text": [
      "[I 2024-07-26 11:56:06,937] Trial 39 finished with value: 0.8586641741550849 and parameters: {'iterations': 1200, 'learning_rate': 0.04924386870185847, 'random_strength': 3, 'bagging_temperature': 5, 'max_bin': 30, 'grow_policy': 'Lossguide', 'min_data_in_leaf': 5, 'max_depth': 9, 'l2_leaf_reg': 8.481028134568838e-07, 'one_hot_max_size': 10, 'auto_class_weights': 'Balanced'}. Best is trial 37 with value: 0.8669401824070608.\n"
     ]
    },
    {
     "name": "stdout",
     "output_type": "stream",
     "text": [
      "\n",
      "bestTest = 0.4713881921\n",
      "bestIteration = 160\n",
      "\n",
      "Training on fold [0/5]\n"
     ]
    },
    {
     "name": "stderr",
     "output_type": "stream",
     "text": [
      "C:\\Users\\40107588\\AppData\\Local\\Temp\\ipykernel_3444\\1656202261.py:13: FutureWarning: suggest_loguniform has been deprecated in v3.0.0. This feature will be removed in v6.0.0. See https://github.com/optuna/optuna/releases/tag/v3.0.0. Use suggest_float(..., log=True) instead.\n",
      "  \"l2_leaf_reg\": trial.suggest_loguniform(\"l2_leaf_reg\", 1e-8, 100), #L2 regularization coefficient for leaf weights\n"
     ]
    },
    {
     "name": "stdout",
     "output_type": "stream",
     "text": [
      "\n",
      "bestTest = 0.4660807847\n",
      "bestIteration = 123\n",
      "\n",
      "Training on fold [1/5]\n",
      "\n",
      "bestTest = 0.4625918519\n",
      "bestIteration = 108\n",
      "\n",
      "Training on fold [2/5]\n",
      "\n",
      "bestTest = 0.4743059968\n",
      "bestIteration = 111\n",
      "\n",
      "Training on fold [3/5]\n",
      "\n",
      "bestTest = 0.4720258658\n",
      "bestIteration = 75\n",
      "\n",
      "Training on fold [4/5]\n"
     ]
    },
    {
     "name": "stderr",
     "output_type": "stream",
     "text": [
      "[I 2024-07-26 11:58:43,486] Trial 40 finished with value: 0.859394697009894 and parameters: {'iterations': 1200, 'learning_rate': 0.07839593478533496, 'random_strength': 2, 'bagging_temperature': 5, 'max_bin': 30, 'grow_policy': 'Lossguide', 'min_data_in_leaf': 6, 'max_depth': 9, 'l2_leaf_reg': 1.4688305330211798e-08, 'one_hot_max_size': 10, 'auto_class_weights': 'Balanced'}. Best is trial 37 with value: 0.8669401824070608.\n"
     ]
    },
    {
     "name": "stdout",
     "output_type": "stream",
     "text": [
      "\n",
      "bestTest = 0.4670377208\n",
      "bestIteration = 99\n",
      "\n",
      "Training on fold [0/5]\n"
     ]
    },
    {
     "name": "stderr",
     "output_type": "stream",
     "text": [
      "C:\\Users\\40107588\\AppData\\Local\\Temp\\ipykernel_3444\\1656202261.py:13: FutureWarning: suggest_loguniform has been deprecated in v3.0.0. This feature will be removed in v6.0.0. See https://github.com/optuna/optuna/releases/tag/v3.0.0. Use suggest_float(..., log=True) instead.\n",
      "  \"l2_leaf_reg\": trial.suggest_loguniform(\"l2_leaf_reg\", 1e-8, 100), #L2 regularization coefficient for leaf weights\n"
     ]
    },
    {
     "name": "stdout",
     "output_type": "stream",
     "text": [
      "\n",
      "bestTest = 0.4584125568\n",
      "bestIteration = 270\n",
      "\n",
      "Training on fold [1/5]\n",
      "\n",
      "bestTest = 0.4493229151\n",
      "bestIteration = 282\n",
      "\n",
      "Training on fold [2/5]\n",
      "\n",
      "bestTest = 0.4550509534\n",
      "bestIteration = 365\n",
      "\n",
      "Training on fold [3/5]\n",
      "\n",
      "bestTest = 0.4590799603\n",
      "bestIteration = 254\n",
      "\n",
      "Training on fold [4/5]\n"
     ]
    },
    {
     "name": "stderr",
     "output_type": "stream",
     "text": [
      "[I 2024-07-26 12:06:40,525] Trial 41 finished with value: 0.8670406409711484 and parameters: {'iterations': 1200, 'learning_rate': 0.051579119175126475, 'random_strength': 3, 'bagging_temperature': 6, 'max_bin': 30, 'grow_policy': 'Lossguide', 'min_data_in_leaf': 6, 'max_depth': 10, 'l2_leaf_reg': 26.182447610783683, 'one_hot_max_size': 10, 'auto_class_weights': 'Balanced'}. Best is trial 41 with value: 0.8670406409711484.\n"
     ]
    },
    {
     "name": "stdout",
     "output_type": "stream",
     "text": [
      "\n",
      "bestTest = 0.4573775348\n",
      "bestIteration = 279\n",
      "\n",
      "Training on fold [0/5]\n"
     ]
    },
    {
     "name": "stderr",
     "output_type": "stream",
     "text": [
      "C:\\Users\\40107588\\AppData\\Local\\Temp\\ipykernel_3444\\1656202261.py:13: FutureWarning: suggest_loguniform has been deprecated in v3.0.0. This feature will be removed in v6.0.0. See https://github.com/optuna/optuna/releases/tag/v3.0.0. Use suggest_float(..., log=True) instead.\n",
      "  \"l2_leaf_reg\": trial.suggest_loguniform(\"l2_leaf_reg\", 1e-8, 100), #L2 regularization coefficient for leaf weights\n"
     ]
    },
    {
     "name": "stdout",
     "output_type": "stream",
     "text": [
      "\n",
      "bestTest = 0.4597917059\n",
      "bestIteration = 305\n",
      "\n",
      "Training on fold [1/5]\n",
      "\n",
      "bestTest = 0.4482251065\n",
      "bestIteration = 341\n",
      "\n",
      "Training on fold [2/5]\n",
      "\n",
      "bestTest = 0.4551552557\n",
      "bestIteration = 381\n",
      "\n",
      "Training on fold [3/5]\n",
      "\n",
      "bestTest = 0.457938387\n",
      "bestIteration = 339\n",
      "\n",
      "Training on fold [4/5]\n"
     ]
    },
    {
     "name": "stderr",
     "output_type": "stream",
     "text": [
      "[I 2024-07-26 12:16:56,634] Trial 42 finished with value: 0.8670574726329783 and parameters: {'iterations': 1200, 'learning_rate': 0.0401132746444437, 'random_strength': 3, 'bagging_temperature': 6, 'max_bin': 30, 'grow_policy': 'Lossguide', 'min_data_in_leaf': 5, 'max_depth': 10, 'l2_leaf_reg': 8.316797707777736, 'one_hot_max_size': 10, 'auto_class_weights': 'Balanced'}. Best is trial 42 with value: 0.8670574726329783.\n"
     ]
    },
    {
     "name": "stdout",
     "output_type": "stream",
     "text": [
      "\n",
      "bestTest = 0.4593226066\n",
      "bestIteration = 323\n",
      "\n",
      "Training on fold [0/5]\n"
     ]
    },
    {
     "name": "stderr",
     "output_type": "stream",
     "text": [
      "C:\\Users\\40107588\\AppData\\Local\\Temp\\ipykernel_3444\\1656202261.py:13: FutureWarning: suggest_loguniform has been deprecated in v3.0.0. This feature will be removed in v6.0.0. See https://github.com/optuna/optuna/releases/tag/v3.0.0. Use suggest_float(..., log=True) instead.\n",
      "  \"l2_leaf_reg\": trial.suggest_loguniform(\"l2_leaf_reg\", 1e-8, 100), #L2 regularization coefficient for leaf weights\n"
     ]
    },
    {
     "name": "stdout",
     "output_type": "stream",
     "text": [
      "\n",
      "bestTest = 0.4568253832\n",
      "bestIteration = 354\n",
      "\n",
      "Training on fold [1/5]\n",
      "\n",
      "bestTest = 0.4483537655\n",
      "bestIteration = 415\n",
      "\n",
      "Training on fold [2/5]\n",
      "\n",
      "bestTest = 0.4552692592\n",
      "bestIteration = 386\n",
      "\n",
      "Training on fold [3/5]\n",
      "\n",
      "bestTest = 0.459520419\n",
      "bestIteration = 343\n",
      "\n",
      "Training on fold [4/5]\n"
     ]
    },
    {
     "name": "stderr",
     "output_type": "stream",
     "text": [
      "[I 2024-07-26 12:26:38,378] Trial 43 finished with value: 0.8670543378935059 and parameters: {'iterations': 1200, 'learning_rate': 0.03612474452108618, 'random_strength': 3, 'bagging_temperature': 6, 'max_bin': 30, 'grow_policy': 'Lossguide', 'min_data_in_leaf': 5, 'max_depth': 10, 'l2_leaf_reg': 6.973969672008123, 'one_hot_max_size': 10, 'auto_class_weights': 'Balanced'}. Best is trial 42 with value: 0.8670574726329783.\n"
     ]
    },
    {
     "name": "stdout",
     "output_type": "stream",
     "text": [
      "\n",
      "bestTest = 0.4608248451\n",
      "bestIteration = 342\n",
      "\n",
      "Training on fold [0/5]\n"
     ]
    },
    {
     "name": "stderr",
     "output_type": "stream",
     "text": [
      "C:\\Users\\40107588\\AppData\\Local\\Temp\\ipykernel_3444\\1656202261.py:13: FutureWarning: suggest_loguniform has been deprecated in v3.0.0. This feature will be removed in v6.0.0. See https://github.com/optuna/optuna/releases/tag/v3.0.0. Use suggest_float(..., log=True) instead.\n",
      "  \"l2_leaf_reg\": trial.suggest_loguniform(\"l2_leaf_reg\", 1e-8, 100), #L2 regularization coefficient for leaf weights\n"
     ]
    },
    {
     "name": "stdout",
     "output_type": "stream",
     "text": [
      "\n",
      "bestTest = 0.458449164\n",
      "bestIteration = 294\n",
      "\n",
      "Training on fold [1/5]\n",
      "\n",
      "bestTest = 0.4490652017\n",
      "bestIteration = 321\n",
      "\n",
      "Training on fold [2/5]\n",
      "\n",
      "bestTest = 0.4571998577\n",
      "bestIteration = 341\n",
      "\n",
      "Training on fold [3/5]\n",
      "\n",
      "bestTest = 0.4614836771\n",
      "bestIteration = 228\n",
      "\n",
      "Training on fold [4/5]\n"
     ]
    },
    {
     "name": "stderr",
     "output_type": "stream",
     "text": [
      "[I 2024-07-26 12:34:06,463] Trial 44 finished with value: 0.8662151202595304 and parameters: {'iterations': 1200, 'learning_rate': 0.04304130497958788, 'random_strength': 3, 'bagging_temperature': 4, 'max_bin': 30, 'grow_policy': 'Lossguide', 'min_data_in_leaf': 5, 'max_depth': 10, 'l2_leaf_reg': 6.503356107329111, 'one_hot_max_size': 10, 'auto_class_weights': 'Balanced'}. Best is trial 42 with value: 0.8670574726329783.\n"
     ]
    },
    {
     "name": "stdout",
     "output_type": "stream",
     "text": [
      "\n",
      "bestTest = 0.461435337\n",
      "bestIteration = 294\n",
      "\n",
      "Training on fold [0/5]\n"
     ]
    },
    {
     "name": "stderr",
     "output_type": "stream",
     "text": [
      "C:\\Users\\40107588\\AppData\\Local\\Temp\\ipykernel_3444\\1656202261.py:13: FutureWarning: suggest_loguniform has been deprecated in v3.0.0. This feature will be removed in v6.0.0. See https://github.com/optuna/optuna/releases/tag/v3.0.0. Use suggest_float(..., log=True) instead.\n",
      "  \"l2_leaf_reg\": trial.suggest_loguniform(\"l2_leaf_reg\", 1e-8, 100), #L2 regularization coefficient for leaf weights\n"
     ]
    },
    {
     "name": "stdout",
     "output_type": "stream",
     "text": [
      "\n",
      "bestTest = 0.4594029295\n",
      "bestIteration = 486\n",
      "\n",
      "Training on fold [1/5]\n",
      "\n",
      "bestTest = 0.4482348909\n",
      "bestIteration = 510\n",
      "\n",
      "Training on fold [2/5]\n",
      "\n",
      "bestTest = 0.4574293385\n",
      "bestIteration = 516\n",
      "\n",
      "Training on fold [3/5]\n",
      "\n",
      "bestTest = 0.4659452654\n",
      "bestIteration = 319\n",
      "\n",
      "Training on fold [4/5]\n"
     ]
    },
    {
     "name": "stderr",
     "output_type": "stream",
     "text": [
      "[I 2024-07-26 12:41:48,480] Trial 45 finished with value: 0.8661646725527963 and parameters: {'iterations': 1200, 'learning_rate': 0.02677733766798697, 'random_strength': 4, 'bagging_temperature': 6, 'max_bin': 30, 'grow_policy': 'Lossguide', 'min_data_in_leaf': 4, 'max_depth': 10, 'l2_leaf_reg': 3.73480484288306, 'one_hot_max_size': 10, 'auto_class_weights': 'Balanced'}. Best is trial 42 with value: 0.8670574726329783.\n"
     ]
    },
    {
     "name": "stdout",
     "output_type": "stream",
     "text": [
      "\n",
      "bestTest = 0.4590345715\n",
      "bestIteration = 486\n",
      "\n",
      "Training on fold [0/5]\n"
     ]
    },
    {
     "name": "stderr",
     "output_type": "stream",
     "text": [
      "C:\\Users\\40107588\\AppData\\Local\\Temp\\ipykernel_3444\\1656202261.py:13: FutureWarning: suggest_loguniform has been deprecated in v3.0.0. This feature will be removed in v6.0.0. See https://github.com/optuna/optuna/releases/tag/v3.0.0. Use suggest_float(..., log=True) instead.\n",
      "  \"l2_leaf_reg\": trial.suggest_loguniform(\"l2_leaf_reg\", 1e-8, 100), #L2 regularization coefficient for leaf weights\n"
     ]
    },
    {
     "name": "stdout",
     "output_type": "stream",
     "text": [
      "\n",
      "bestTest = 0.4630574413\n",
      "bestIteration = 182\n",
      "\n",
      "Training on fold [1/5]\n",
      "\n",
      "bestTest = 0.4511627623\n",
      "bestIteration = 177\n",
      "\n",
      "Training on fold [2/5]\n",
      "\n",
      "bestTest = 0.4581732709\n",
      "bestIteration = 191\n",
      "\n",
      "Training on fold [3/5]\n",
      "\n",
      "bestTest = 0.4632594099\n",
      "bestIteration = 153\n",
      "\n",
      "Training on fold [4/5]\n"
     ]
    },
    {
     "name": "stderr",
     "output_type": "stream",
     "text": [
      "[I 2024-07-26 12:44:36,896] Trial 46 finished with value: 0.8648496822956698 and parameters: {'iterations': 1200, 'learning_rate': 0.07357850005881951, 'random_strength': 3, 'bagging_temperature': 5, 'max_bin': 30, 'grow_policy': 'Lossguide', 'min_data_in_leaf': 6, 'max_depth': 10, 'l2_leaf_reg': 2.2538536332408636, 'one_hot_max_size': 10, 'auto_class_weights': 'Balanced'}. Best is trial 42 with value: 0.8670574726329783.\n"
     ]
    },
    {
     "name": "stdout",
     "output_type": "stream",
     "text": [
      "\n",
      "bestTest = 0.4616116113\n",
      "bestIteration = 192\n",
      "\n",
      "Training on fold [0/5]\n"
     ]
    },
    {
     "name": "stderr",
     "output_type": "stream",
     "text": [
      "C:\\Users\\40107588\\AppData\\Local\\Temp\\ipykernel_3444\\1656202261.py:13: FutureWarning: suggest_loguniform has been deprecated in v3.0.0. This feature will be removed in v6.0.0. See https://github.com/optuna/optuna/releases/tag/v3.0.0. Use suggest_float(..., log=True) instead.\n",
      "  \"l2_leaf_reg\": trial.suggest_loguniform(\"l2_leaf_reg\", 1e-8, 100), #L2 regularization coefficient for leaf weights\n"
     ]
    },
    {
     "name": "stdout",
     "output_type": "stream",
     "text": [
      "\n",
      "bestTest = 0.4660103278\n",
      "bestIteration = 54\n",
      "\n",
      "Training on fold [1/5]\n",
      "\n",
      "bestTest = 0.4567015524\n",
      "bestIteration = 94\n",
      "\n",
      "Training on fold [2/5]\n",
      "\n",
      "bestTest = 0.4706253926\n",
      "bestIteration = 92\n",
      "\n",
      "Training on fold [3/5]\n",
      "\n",
      "bestTest = 0.4695637146\n",
      "bestIteration = 66\n",
      "\n",
      "Training on fold [4/5]\n"
     ]
    },
    {
     "name": "stderr",
     "output_type": "stream",
     "text": [
      "[I 2024-07-26 12:45:48,748] Trial 47 finished with value: 0.8606778019285182 and parameters: {'iterations': 1200, 'learning_rate': 0.08564940608004865, 'random_strength': 1, 'bagging_temperature': 4, 'max_bin': 30, 'grow_policy': 'Lossguide', 'min_data_in_leaf': 5, 'max_depth': 9, 'l2_leaf_reg': 0.00029726225174476226, 'one_hot_max_size': 10, 'auto_class_weights': 'Balanced'}. Best is trial 42 with value: 0.8670574726329783.\n"
     ]
    },
    {
     "name": "stdout",
     "output_type": "stream",
     "text": [
      "\n",
      "bestTest = 0.4730740481\n",
      "bestIteration = 62\n",
      "\n",
      "Training on fold [0/5]\n"
     ]
    },
    {
     "name": "stderr",
     "output_type": "stream",
     "text": [
      "C:\\Users\\40107588\\AppData\\Local\\Temp\\ipykernel_3444\\1656202261.py:13: FutureWarning: suggest_loguniform has been deprecated in v3.0.0. This feature will be removed in v6.0.0. See https://github.com/optuna/optuna/releases/tag/v3.0.0. Use suggest_float(..., log=True) instead.\n",
      "  \"l2_leaf_reg\": trial.suggest_loguniform(\"l2_leaf_reg\", 1e-8, 100), #L2 regularization coefficient for leaf weights\n"
     ]
    },
    {
     "name": "stdout",
     "output_type": "stream",
     "text": [
      "\n",
      "bestTest = 0.4599902051\n",
      "bestIteration = 209\n",
      "\n",
      "Training on fold [1/5]\n",
      "\n",
      "bestTest = 0.4520625107\n",
      "bestIteration = 247\n",
      "\n",
      "Training on fold [2/5]\n",
      "\n",
      "bestTest = 0.4588034204\n",
      "bestIteration = 258\n",
      "\n",
      "Training on fold [3/5]\n"
     ]
    }
   ],
   "source": [
    "sampler = optuna.samplers.TPESampler(seed=68)  # Make the sampler behave in a deterministic way.\n",
    "study = optuna.create_study(direction=\"maximize\", sampler=sampler)\n",
    "study.optimize(objective, n_trials=100)"
   ]
  },
  {
   "cell_type": "code",
   "execution_count": null,
   "metadata": {},
   "outputs": [
    {
     "ename": "",
     "evalue": "",
     "output_type": "error",
     "traceback": [
      "\u001b[1;31mFailed to start the Kernel. \n",
      "\u001b[1;31mUnable to start Kernel 'Python 3.11.4' due to a timeout waiting for the ports to get used. \n",
      "\u001b[1;31mView Jupyter <a href='command:jupyter.viewOutput'>log</a> for further details."
     ]
    }
   ],
   "source": [
    "print(\"Number of finished trials: {}\".format(len(study.trials)))\n",
    "print(\"Best trial:\")\n",
    "trial = study.best_trial\n",
    "print(\"  Value: {}\".format(trial.value))\n",
    "print(\"  Params: \")\n",
    "for key, value in trial.params.items():\n",
    "    print(\"    {}={},\".format(key, value))\n"
   ]
  },
  {
   "cell_type": "markdown",
   "metadata": {},
   "source": [
    "### Check the model"
   ]
  },
  {
   "cell_type": "code",
   "execution_count": null,
   "metadata": {},
   "outputs": [
    {
     "ename": "",
     "evalue": "",
     "output_type": "error",
     "traceback": [
      "\u001b[1;31mFailed to start the Kernel. \n",
      "\u001b[1;31mUnable to start Kernel 'Python 3.11.4' due to a timeout waiting for the ports to get used. \n",
      "\u001b[1;31mView Jupyter <a href='command:jupyter.viewOutput'>log</a> for further details."
     ]
    }
   ],
   "source": [
    "final_model = CatBoostClassifier(verbose=False,  cat_features=categorical_features_indices, \n",
    "                          **trial.params)"
   ]
  },
  {
   "cell_type": "code",
   "execution_count": null,
   "metadata": {},
   "outputs": [
    {
     "ename": "",
     "evalue": "",
     "output_type": "error",
     "traceback": [
      "\u001b[1;31mFailed to start the Kernel. \n",
      "\u001b[1;31mUnable to start Kernel 'Python 3.11.4' due to a timeout waiting for the ports to get used. \n",
      "\u001b[1;31mView Jupyter <a href='command:jupyter.viewOutput'>log</a> for further details."
     ]
    }
   ],
   "source": [
    "final_model.fit(X_train, y_train.h1n1_vaccine)"
   ]
  },
  {
   "cell_type": "code",
   "execution_count": null,
   "metadata": {},
   "outputs": [
    {
     "ename": "",
     "evalue": "",
     "output_type": "error",
     "traceback": [
      "\u001b[1;31mFailed to start the Kernel. \n",
      "\u001b[1;31mUnable to start Kernel 'Python 3.11.4' due to a timeout waiting for the ports to get used. \n",
      "\u001b[1;31mView Jupyter <a href='command:jupyter.viewOutput'>log</a> for further details."
     ]
    }
   ],
   "source": [
    "predictions_h1 = final_model.predict_proba(X_test)"
   ]
  },
  {
   "cell_type": "code",
   "execution_count": null,
   "metadata": {},
   "outputs": [
    {
     "ename": "",
     "evalue": "",
     "output_type": "error",
     "traceback": [
      "\u001b[1;31mFailed to start the Kernel. \n",
      "\u001b[1;31mUnable to start Kernel 'Python 3.11.4' due to a timeout waiting for the ports to get used. \n",
      "\u001b[1;31mView Jupyter <a href='command:jupyter.viewOutput'>log</a> for further details."
     ]
    }
   ],
   "source": [
    "predictions_h1 = predictions_h1[:,1].reshape(-1,1)"
   ]
  },
  {
   "cell_type": "code",
   "execution_count": null,
   "metadata": {},
   "outputs": [
    {
     "ename": "",
     "evalue": "",
     "output_type": "error",
     "traceback": [
      "\u001b[1;31mFailed to start the Kernel. \n",
      "\u001b[1;31mUnable to start Kernel 'Python 3.11.4' due to a timeout waiting for the ports to get used. \n",
      "\u001b[1;31mView Jupyter <a href='command:jupyter.viewOutput'>log</a> for further details."
     ]
    }
   ],
   "source": [
    "from sklearn.metrics import roc_curve, roc_auc_score"
   ]
  },
  {
   "cell_type": "code",
   "execution_count": null,
   "metadata": {},
   "outputs": [
    {
     "ename": "",
     "evalue": "",
     "output_type": "error",
     "traceback": [
      "\u001b[1;31mFailed to start the Kernel. \n",
      "\u001b[1;31mUnable to start Kernel 'Python 3.11.4' due to a timeout waiting for the ports to get used. \n",
      "\u001b[1;31mView Jupyter <a href='command:jupyter.viewOutput'>log</a> for further details."
     ]
    }
   ],
   "source": [
    "def plot_roc(y_true, y_score, label_name, ax):\n",
    "    fpr, tpr, thresholds = roc_curve(y_true, y_score)\n",
    "    ax.plot(fpr, tpr)\n",
    "    ax.plot([0, 1], [0, 1], color='grey', linestyle='--')\n",
    "    ax.set_ylabel('TPR')\n",
    "    ax.set_xlabel('FPR')\n",
    "    ax.set_title(\n",
    "        f\"{label_name}: AUC = {roc_auc_score(y_true, y_score):.4f}\"\n",
    "    )"
   ]
  },
  {
   "cell_type": "code",
   "execution_count": null,
   "metadata": {},
   "outputs": [
    {
     "ename": "",
     "evalue": "",
     "output_type": "error",
     "traceback": [
      "\u001b[1;31mFailed to start the Kernel. \n",
      "\u001b[1;31mUnable to start Kernel 'Python 3.11.4' due to a timeout waiting for the ports to get used. \n",
      "\u001b[1;31mView Jupyter <a href='command:jupyter.viewOutput'>log</a> for further details."
     ]
    }
   ],
   "source": [
    "fig, ax = plt.subplots(1, 1, figsize=(10, 8))\n",
    "plot_roc(\n",
    "    y_test['h1n1_vaccine'], \n",
    "    predictions_h1, \n",
    "    'h1n1_vaccine',\n",
    "    ax=ax\n",
    ")"
   ]
  },
  {
   "cell_type": "code",
   "execution_count": null,
   "metadata": {},
   "outputs": [
    {
     "ename": "",
     "evalue": "",
     "output_type": "error",
     "traceback": [
      "\u001b[1;31mFailed to start the Kernel. \n",
      "\u001b[1;31mUnable to start Kernel 'Python 3.11.4' due to a timeout waiting for the ports to get used. \n",
      "\u001b[1;31mView Jupyter <a href='command:jupyter.viewOutput'>log</a> for further details."
     ]
    }
   ],
   "source": [
    "roc_auc_score(y_test.h1n1_vaccine, predictions_h1)"
   ]
  },
  {
   "cell_type": "markdown",
   "metadata": {},
   "source": [
    "## Second part"
   ]
  },
  {
   "cell_type": "code",
   "execution_count": null,
   "metadata": {},
   "outputs": [
    {
     "ename": "",
     "evalue": "",
     "output_type": "error",
     "traceback": [
      "\u001b[1;31mFailed to start the Kernel. \n",
      "\u001b[1;31mUnable to start Kernel 'Python 3.11.4' due to a timeout waiting for the ports to get used. \n",
      "\u001b[1;31mView Jupyter <a href='command:jupyter.viewOutput'>log</a> for further details."
     ]
    }
   ],
   "source": [
    "train_dataset_se = Pool(data=X_train,\n",
    "                     label=y_train.seasonal_vaccine,\n",
    "                     cat_features = categorical_features_indices)"
   ]
  },
  {
   "cell_type": "markdown",
   "metadata": {},
   "source": [
    "I made a second objective function in case I'd want to change some tuning"
   ]
  },
  {
   "cell_type": "code",
   "execution_count": null,
   "metadata": {},
   "outputs": [
    {
     "ename": "",
     "evalue": "",
     "output_type": "error",
     "traceback": [
      "\u001b[1;31mFailed to start the Kernel. \n",
      "\u001b[1;31mUnable to start Kernel 'Python 3.11.4' due to a timeout waiting for the ports to get used. \n",
      "\u001b[1;31mView Jupyter <a href='command:jupyter.viewOutput'>log</a> for further details."
     ]
    }
   ],
   "source": [
    "def objective2(trial):\n",
    "    param = {\n",
    "        'iterations':trial.suggest_categorical('iterations', [100,200,300,500,1000,1200,1500]),\n",
    "        'learning_rate':trial.suggest_float(\"learning_rate\", 0.001, 0.3),\n",
    "        'random_strength':trial.suggest_int(\"random_strength\", 1,10),\n",
    "        'bagging_temperature':trial.suggest_int(\"bagging_temperature\", 0,10),\n",
    "        'max_bin':trial.suggest_categorical('max_bin', [4,5,6,8,10,20,30]),\n",
    "        'grow_policy':trial.suggest_categorical('grow_policy', ['SymmetricTree', 'Depthwise', 'Lossguide']),\n",
    "        'min_data_in_leaf':trial.suggest_int(\"min_data_in_leaf\", 1,10),\n",
    "        'od_type' : \"Iter\",\n",
    "        'od_wait' : 100,\n",
    "        \"depth\": trial.suggest_int(\"max_depth\", 2,10),\n",
    "        \"l2_leaf_reg\": trial.suggest_loguniform(\"l2_leaf_reg\", 1e-8, 100),\n",
    "         'one_hot_max_size':trial.suggest_categorical('one_hot_max_size', [5,10,12,100,500,1024]),\n",
    "        'custom_metric' : ['AUC'],\n",
    "        \"loss_function\": \"Logloss\",\n",
    "        'auto_class_weights':trial.suggest_categorical('auto_class_weights', ['Balanced', 'SqrtBalanced']),\n",
    "        }\n",
    "\n",
    "    scores = cv(train_dataset_se,\n",
    "            param,\n",
    "            fold_count=5, \n",
    "            early_stopping_rounds=10,         \n",
    "            plot=False, verbose=False) \n",
    "\n",
    "    return scores['test-AUC-mean'].max()"
   ]
  },
  {
   "cell_type": "code",
   "execution_count": null,
   "metadata": {},
   "outputs": [
    {
     "ename": "",
     "evalue": "",
     "output_type": "error",
     "traceback": [
      "\u001b[1;31mFailed to start the Kernel. \n",
      "\u001b[1;31mUnable to start Kernel 'Python 3.11.4' due to a timeout waiting for the ports to get used. \n",
      "\u001b[1;31mView Jupyter <a href='command:jupyter.viewOutput'>log</a> for further details."
     ]
    }
   ],
   "source": [
    "sampler = optuna.samplers.TPESampler(seed=68)  # Make the sampler behave in a deterministic way.\n",
    "study2 = optuna.create_study(direction=\"maximize\", sampler=sampler)\n",
    "study2.optimize(objective2, n_trials=100)"
   ]
  },
  {
   "cell_type": "code",
   "execution_count": null,
   "metadata": {},
   "outputs": [
    {
     "ename": "",
     "evalue": "",
     "output_type": "error",
     "traceback": [
      "\u001b[1;31mFailed to start the Kernel. \n",
      "\u001b[1;31mUnable to start Kernel 'Python 3.11.4' due to a timeout waiting for the ports to get used. \n",
      "\u001b[1;31mView Jupyter <a href='command:jupyter.viewOutput'>log</a> for further details."
     ]
    }
   ],
   "source": [
    "print(\"Number of finished trials: {}\".format(len(study2.trials)))\n",
    "print(\"Best trial:\")\n",
    "trial2 = study2.best_trial\n",
    "print(\"  Value: {}\".format(trial2.value))\n",
    "print(\"  Params: \")\n",
    "for key, value in trial2.params.items():\n",
    "    print(\"    {}={},\".format(key, value))\n"
   ]
  },
  {
   "cell_type": "code",
   "execution_count": null,
   "metadata": {},
   "outputs": [
    {
     "ename": "",
     "evalue": "",
     "output_type": "error",
     "traceback": [
      "\u001b[1;31mFailed to start the Kernel. \n",
      "\u001b[1;31mUnable to start Kernel 'Python 3.11.4' due to a timeout waiting for the ports to get used. \n",
      "\u001b[1;31mView Jupyter <a href='command:jupyter.viewOutput'>log</a> for further details."
     ]
    }
   ],
   "source": [
    "Number of finished trials: 100\n",
    "Best trial:\n",
    "  Value: 0.8679538793376752\n",
    "  Params: \n",
    "    iterations=500,\n",
    "    learning_rate=0.05745075659543725,\n",
    "    random_strength=4,\n",
    "    bagging_temperature=8,\n",
    "    max_bin=5,\n",
    "    grow_policy=Lossguide,\n",
    "    min_data_in_leaf=7,\n",
    "    max_depth=6,\n",
    "    l2_leaf_reg=11.323094517862078,\n",
    "    one_hot_max_size=10,\n",
    "    auto_class_weights=Balanced,"
   ]
  },
  {
   "cell_type": "code",
   "execution_count": null,
   "metadata": {},
   "outputs": [
    {
     "ename": "",
     "evalue": "",
     "output_type": "error",
     "traceback": [
      "\u001b[1;31mFailed to start the Kernel. \n",
      "\u001b[1;31mUnable to start Kernel 'Python 3.11.4' due to a timeout waiting for the ports to get used. \n",
      "\u001b[1;31mView Jupyter <a href='command:jupyter.viewOutput'>log</a> for further details."
     ]
    }
   ],
   "source": [
    "final_model_se = CatBoostClassifier(verbose=False,  cat_features=categorical_features_indices, \n",
    "                                    **trial2.params)"
   ]
  },
  {
   "cell_type": "code",
   "execution_count": null,
   "metadata": {},
   "outputs": [
    {
     "ename": "",
     "evalue": "",
     "output_type": "error",
     "traceback": [
      "\u001b[1;31mFailed to start the Kernel. \n",
      "\u001b[1;31mUnable to start Kernel 'Python 3.11.4' due to a timeout waiting for the ports to get used. \n",
      "\u001b[1;31mView Jupyter <a href='command:jupyter.viewOutput'>log</a> for further details."
     ]
    }
   ],
   "source": [
    "final_model_se.fit(X_train, y_train.seasonal_vaccine)"
   ]
  },
  {
   "cell_type": "code",
   "execution_count": null,
   "metadata": {},
   "outputs": [
    {
     "ename": "",
     "evalue": "",
     "output_type": "error",
     "traceback": [
      "\u001b[1;31mFailed to start the Kernel. \n",
      "\u001b[1;31mUnable to start Kernel 'Python 3.11.4' due to a timeout waiting for the ports to get used. \n",
      "\u001b[1;31mView Jupyter <a href='command:jupyter.viewOutput'>log</a> for further details."
     ]
    }
   ],
   "source": [
    "predictions_se = final_model_se.predict_proba(X_test)"
   ]
  },
  {
   "cell_type": "code",
   "execution_count": null,
   "metadata": {},
   "outputs": [
    {
     "ename": "",
     "evalue": "",
     "output_type": "error",
     "traceback": [
      "\u001b[1;31mFailed to start the Kernel. \n",
      "\u001b[1;31mUnable to start Kernel 'Python 3.11.4' due to a timeout waiting for the ports to get used. \n",
      "\u001b[1;31mView Jupyter <a href='command:jupyter.viewOutput'>log</a> for further details."
     ]
    }
   ],
   "source": [
    "predictions_se = predictions_se[:,1].reshape(-1,1)"
   ]
  },
  {
   "cell_type": "code",
   "execution_count": null,
   "metadata": {},
   "outputs": [
    {
     "ename": "",
     "evalue": "",
     "output_type": "error",
     "traceback": [
      "\u001b[1;31mFailed to start the Kernel. \n",
      "\u001b[1;31mUnable to start Kernel 'Python 3.11.4' due to a timeout waiting for the ports to get used. \n",
      "\u001b[1;31mView Jupyter <a href='command:jupyter.viewOutput'>log</a> for further details."
     ]
    }
   ],
   "source": [
    "fig, ax = plt.subplots(1, 1, figsize=(10, 8))\n",
    "plot_roc(\n",
    "    y_test['seasonal_vaccine'], \n",
    "    predictions_se, \n",
    "    'seasonal_vaccine',\n",
    "    ax=ax\n",
    ")"
   ]
  },
  {
   "cell_type": "code",
   "execution_count": null,
   "metadata": {},
   "outputs": [
    {
     "ename": "",
     "evalue": "",
     "output_type": "error",
     "traceback": [
      "\u001b[1;31mFailed to start the Kernel. \n",
      "\u001b[1;31mUnable to start Kernel 'Python 3.11.4' due to a timeout waiting for the ports to get used. \n",
      "\u001b[1;31mView Jupyter <a href='command:jupyter.viewOutput'>log</a> for further details."
     ]
    }
   ],
   "source": [
    "roc_auc_score(y_test.seasonal_vaccine, predictions_se)"
   ]
  },
  {
   "cell_type": "markdown",
   "metadata": {},
   "source": [
    "## Combined score"
   ]
  },
  {
   "cell_type": "code",
   "execution_count": null,
   "metadata": {},
   "outputs": [
    {
     "ename": "",
     "evalue": "",
     "output_type": "error",
     "traceback": [
      "\u001b[1;31mFailed to start the Kernel. \n",
      "\u001b[1;31mUnable to start Kernel 'Python 3.11.4' due to a timeout waiting for the ports to get used. \n",
      "\u001b[1;31mView Jupyter <a href='command:jupyter.viewOutput'>log</a> for further details."
     ]
    }
   ],
   "source": [
    "# Let's see the score combined of the two best predictions\n",
    "roc_auc_score(y_test, np.hstack((predictions_h1, predictions_se)))"
   ]
  },
  {
   "cell_type": "markdown",
   "metadata": {},
   "source": [
    "## Retrain on full dataset"
   ]
  },
  {
   "cell_type": "markdown",
   "metadata": {},
   "source": [
    "#### Seasonal"
   ]
  },
  {
   "cell_type": "code",
   "execution_count": null,
   "metadata": {},
   "outputs": [
    {
     "ename": "",
     "evalue": "",
     "output_type": "error",
     "traceback": [
      "\u001b[1;31mFailed to start the Kernel. \n",
      "\u001b[1;31mUnable to start Kernel 'Python 3.11.4' due to a timeout waiting for the ports to get used. \n",
      "\u001b[1;31mView Jupyter <a href='command:jupyter.viewOutput'>log</a> for further details."
     ]
    }
   ],
   "source": [
    "final_model_se.fit(train, labels.seasonal_vaccine)"
   ]
  },
  {
   "cell_type": "code",
   "execution_count": null,
   "metadata": {},
   "outputs": [
    {
     "ename": "",
     "evalue": "",
     "output_type": "error",
     "traceback": [
      "\u001b[1;31mFailed to start the Kernel. \n",
      "\u001b[1;31mUnable to start Kernel 'Python 3.11.4' due to a timeout waiting for the ports to get used. \n",
      "\u001b[1;31mView Jupyter <a href='command:jupyter.viewOutput'>log</a> for further details."
     ]
    }
   ],
   "source": [
    "final_se = final_model_se.predict_proba(test)"
   ]
  },
  {
   "cell_type": "code",
   "execution_count": null,
   "metadata": {},
   "outputs": [
    {
     "ename": "",
     "evalue": "",
     "output_type": "error",
     "traceback": [
      "\u001b[1;31mFailed to start the Kernel. \n",
      "\u001b[1;31mUnable to start Kernel 'Python 3.11.4' due to a timeout waiting for the ports to get used. \n",
      "\u001b[1;31mView Jupyter <a href='command:jupyter.viewOutput'>log</a> for further details."
     ]
    }
   ],
   "source": [
    "final_se = final_se[:,1].reshape(-1,1)"
   ]
  },
  {
   "cell_type": "markdown",
   "metadata": {},
   "source": [
    "#### H1N1"
   ]
  },
  {
   "cell_type": "code",
   "execution_count": null,
   "metadata": {},
   "outputs": [
    {
     "ename": "",
     "evalue": "",
     "output_type": "error",
     "traceback": [
      "\u001b[1;31mFailed to start the Kernel. \n",
      "\u001b[1;31mUnable to start Kernel 'Python 3.11.4' due to a timeout waiting for the ports to get used. \n",
      "\u001b[1;31mView Jupyter <a href='command:jupyter.viewOutput'>log</a> for further details."
     ]
    }
   ],
   "source": [
    "final_model.fit(train, labels.h1n1_vaccine)"
   ]
  },
  {
   "cell_type": "code",
   "execution_count": null,
   "metadata": {},
   "outputs": [
    {
     "ename": "",
     "evalue": "",
     "output_type": "error",
     "traceback": [
      "\u001b[1;31mFailed to start the Kernel. \n",
      "\u001b[1;31mUnable to start Kernel 'Python 3.11.4' due to a timeout waiting for the ports to get used. \n",
      "\u001b[1;31mView Jupyter <a href='command:jupyter.viewOutput'>log</a> for further details."
     ]
    }
   ],
   "source": [
    "final_h1 = final_model.predict_proba(test)"
   ]
  },
  {
   "cell_type": "code",
   "execution_count": null,
   "metadata": {},
   "outputs": [
    {
     "ename": "",
     "evalue": "",
     "output_type": "error",
     "traceback": [
      "\u001b[1;31mFailed to start the Kernel. \n",
      "\u001b[1;31mUnable to start Kernel 'Python 3.11.4' due to a timeout waiting for the ports to get used. \n",
      "\u001b[1;31mView Jupyter <a href='command:jupyter.viewOutput'>log</a> for further details."
     ]
    }
   ],
   "source": [
    "final_h1 = final_h1[:,1].reshape(-1,1)"
   ]
  },
  {
   "cell_type": "markdown",
   "metadata": {},
   "source": [
    "## Make submission"
   ]
  },
  {
   "cell_type": "code",
   "execution_count": null,
   "metadata": {},
   "outputs": [
    {
     "ename": "",
     "evalue": "",
     "output_type": "error",
     "traceback": [
      "\u001b[1;31mFailed to start the Kernel. \n",
      "\u001b[1;31mUnable to start Kernel 'Python 3.11.4' due to a timeout waiting for the ports to get used. \n",
      "\u001b[1;31mView Jupyter <a href='command:jupyter.viewOutput'>log</a> for further details."
     ]
    }
   ],
   "source": [
    "submission_df = pd.read_csv(\"./submission_format.csv\", \n",
    "                            index_col=\"respondent_id\")"
   ]
  },
  {
   "cell_type": "code",
   "execution_count": null,
   "metadata": {},
   "outputs": [
    {
     "ename": "",
     "evalue": "",
     "output_type": "error",
     "traceback": [
      "\u001b[1;31mFailed to start the Kernel. \n",
      "\u001b[1;31mUnable to start Kernel 'Python 3.11.4' due to a timeout waiting for the ports to get used. \n",
      "\u001b[1;31mView Jupyter <a href='command:jupyter.viewOutput'>log</a> for further details."
     ]
    }
   ],
   "source": [
    "# Make sure we have the rows in the same order\n",
    "np.testing.assert_array_equal(test.index.values, \n",
    "                              submission_df.index.values)\n",
    "\n",
    "# Save predictions to submission data frame\n",
    "submission_df[\"h1n1_vaccine\"] = final_h1\n",
    "submission_df[\"seasonal_vaccine\"] = final_se\n",
    "\n",
    "submission_df.head()"
   ]
  },
  {
   "cell_type": "code",
   "execution_count": null,
   "metadata": {},
   "outputs": [
    {
     "ename": "",
     "evalue": "",
     "output_type": "error",
     "traceback": [
      "\u001b[1;31mFailed to start the Kernel. \n",
      "\u001b[1;31mUnable to start Kernel 'Python 3.11.4' due to a timeout waiting for the ports to get used. \n",
      "\u001b[1;31mView Jupyter <a href='command:jupyter.viewOutput'>log</a> for further details."
     ]
    }
   ],
   "source": [
    "date = pd.Timestamp.now().strftime(format='%Y-%m-%d_%H-%M_')\n",
    "submission_df.to_csv(f'predictions/{date}submssion_catboost_optunacvi.csv', index=True)"
   ]
  },
  {
   "cell_type": "markdown",
   "metadata": {},
   "source": [
    "The model scored `0.8608` not too bad, much better than the benchmark. There is a lot of room for improvment (my present score is `0.8638`, ranking **7th** on the 16th February 2021). We can verify some more parameters, CatBoost has a lot of [them](https://catboost.ai/docs/concepts/parameter-tuning.html), we may try some feature engineering (I tried some basice ones but the score did not improve so I omitted them in the analysis), change the model (LightGBM, XGBoost for example), try different imputations, increase the rounds for `optuna` a little bit and so on. Spend some time analysing the dataset and the correlation among the variables using EDA notebooks."
   ]
  },
  {
   "cell_type": "markdown",
   "metadata": {},
   "source": [
    "© Andrea Dalseno 2021"
   ]
  }
 ],
 "metadata": {
  "kernelspec": {
   "display_name": "Python 3",
   "language": "python",
   "name": "python3"
  },
  "language_info": {
   "codemirror_mode": {
    "name": "ipython",
    "version": 3
   },
   "file_extension": ".py",
   "mimetype": "text/x-python",
   "name": "python",
   "nbconvert_exporter": "python",
   "pygments_lexer": "ipython3",
   "version": "3.11.4"
  }
 },
 "nbformat": 4,
 "nbformat_minor": 4
}
